{
 "cells": [
  {
   "cell_type": "code",
   "execution_count": 164,
   "metadata": {},
   "outputs": [],
   "source": [
    "import pandas as pd\n",
    "import numpy as np\n",
    "import re\n",
    "import ast\n",
    "import matplotlib.pyplot as plt\n",
    "import seaborn as sns\n",
    "from matplotlib.colors import LinearSegmentedColormap\n",
    "from mpl_toolkits.axes_grid1 import make_axes_locatable\n",
    "from matplotlib.colors import LogNorm\n",
    "import plotly.express as px\n",
    "from fake_useragent import UserAgent\n",
    "import trafilatura\n",
    "import requests\n",
    "ua = UserAgent()"
   ]
  },
  {
   "cell_type": "code",
   "execution_count": 2,
   "metadata": {},
   "outputs": [],
   "source": [
    "DTYPE = {'Year': 'category'}\n",
    "COLS = ['Entity', 'Story', 'Year', 'Records Lost', 'Sector', 'Method of Leak', '1st source']\n",
    "\n",
    "df = pd.read_csv('Data_Breaches_EN_V2_2004_2017_20180220.csv', sep=';', dtype=DTYPE, usecols=COLS)"
   ]
  },
  {
   "cell_type": "code",
   "execution_count": 3,
   "metadata": {},
   "outputs": [
    {
     "data": {
      "text/plain": [
       "Index(['Entity', 'Story', 'Year', 'Records Lost', 'Sector', 'Method of Leak',\n",
       "       '1st source'],\n",
       "      dtype='object')"
      ]
     },
     "execution_count": 3,
     "metadata": {},
     "output_type": "execute_result"
    }
   ],
   "source": [
    "df.columns"
   ]
  },
  {
   "cell_type": "code",
   "execution_count": 4,
   "metadata": {},
   "outputs": [
    {
     "name": "stdout",
     "output_type": "stream",
     "text": [
      "Shape of the table:(270, 7)\n",
      "\n",
      "<class 'pandas.core.frame.DataFrame'>\n",
      "RangeIndex: 270 entries, 0 to 269\n",
      "Data columns (total 7 columns):\n",
      " #   Column          Non-Null Count  Dtype   \n",
      "---  ------          --------------  -----   \n",
      " 0   Entity          270 non-null    object  \n",
      " 1   Story           239 non-null    object  \n",
      " 2   Year            270 non-null    category\n",
      " 3   Records Lost    270 non-null    object  \n",
      " 4   Sector          270 non-null    object  \n",
      " 5   Method of Leak  270 non-null    object  \n",
      " 6   1st source      270 non-null    object  \n",
      "dtypes: category(1), object(6)\n",
      "memory usage: 13.8+ KB\n",
      "None\n"
     ]
    },
    {
     "data": {
      "text/html": [
       "<div>\n",
       "<style scoped>\n",
       "    .dataframe tbody tr th:only-of-type {\n",
       "        vertical-align: middle;\n",
       "    }\n",
       "\n",
       "    .dataframe tbody tr th {\n",
       "        vertical-align: top;\n",
       "    }\n",
       "\n",
       "    .dataframe thead th {\n",
       "        text-align: right;\n",
       "    }\n",
       "</style>\n",
       "<table border=\"1\" class=\"dataframe\">\n",
       "  <thead>\n",
       "    <tr style=\"text-align: right;\">\n",
       "      <th></th>\n",
       "      <th>Entity</th>\n",
       "      <th>Story</th>\n",
       "      <th>Year</th>\n",
       "      <th>Records Lost</th>\n",
       "      <th>Sector</th>\n",
       "      <th>Method of Leak</th>\n",
       "      <th>1st source</th>\n",
       "    </tr>\n",
       "  </thead>\n",
       "  <tbody>\n",
       "    <tr>\n",
       "      <th>0</th>\n",
       "      <td>River City Media</td>\n",
       "      <td>A dodgy backup has allegedly resulted in over ...</td>\n",
       "      <td>2017</td>\n",
       "      <td>1,37e+09</td>\n",
       "      <td>Web</td>\n",
       "      <td>Accidentally published</td>\n",
       "      <td>https://betanews.com/2017/03/06/river-city-med...</td>\n",
       "    </tr>\n",
       "    <tr>\n",
       "      <th>1</th>\n",
       "      <td>Unique Identification Authority of India</td>\n",
       "      <td>A report says that full data base has been exp...</td>\n",
       "      <td>2017</td>\n",
       "      <td>1e+09</td>\n",
       "      <td>Government</td>\n",
       "      <td>Poor security</td>\n",
       "      <td>http://www.tribuneindia.com/news/nation/rs-500...</td>\n",
       "    </tr>\n",
       "    <tr>\n",
       "      <th>2</th>\n",
       "      <td>Spambot</td>\n",
       "      <td>A misconfigured spambot has leaked over 700m r...</td>\n",
       "      <td>2017</td>\n",
       "      <td>7,11e+08</td>\n",
       "      <td>Web</td>\n",
       "      <td>Poor security</td>\n",
       "      <td>https://www.theguardian.com/technology/2017/au...</td>\n",
       "    </tr>\n",
       "  </tbody>\n",
       "</table>\n",
       "</div>"
      ],
      "text/plain": [
       "                                     Entity  \\\n",
       "0                          River City Media   \n",
       "1  Unique Identification Authority of India   \n",
       "2                                   Spambot   \n",
       "\n",
       "                                               Story  Year Records Lost  \\\n",
       "0  A dodgy backup has allegedly resulted in over ...  2017     1,37e+09   \n",
       "1  A report says that full data base has been exp...  2017        1e+09   \n",
       "2  A misconfigured spambot has leaked over 700m r...  2017     7,11e+08   \n",
       "\n",
       "       Sector          Method of Leak  \\\n",
       "0         Web  Accidentally published   \n",
       "1  Government           Poor security   \n",
       "2         Web           Poor security   \n",
       "\n",
       "                                          1st source  \n",
       "0  https://betanews.com/2017/03/06/river-city-med...  \n",
       "1  http://www.tribuneindia.com/news/nation/rs-500...  \n",
       "2  https://www.theguardian.com/technology/2017/au...  "
      ]
     },
     "execution_count": 4,
     "metadata": {},
     "output_type": "execute_result"
    }
   ],
   "source": [
    "# checking the data\n",
    "print(f'Shape of the table:{df.shape}\\n')\n",
    "print(df.info())\n",
    "df.head(3)"
   ]
  },
  {
   "cell_type": "code",
   "execution_count": 5,
   "metadata": {},
   "outputs": [],
   "source": [
    "# Standardizing datatype of the column \"Records Lost\"\n",
    "df['Records Lost'] = df['Records Lost'].apply(lambda x: re.sub(\"(?<=\\d)\\,(?=\\d)\", \".\", x))\n",
    "df['Records Lost_normalized'] = df['Records Lost'].apply(ast.literal_eval).astype(int)"
   ]
  },
  {
   "cell_type": "code",
   "execution_count": 6,
   "metadata": {},
   "outputs": [],
   "source": [
    "# Retrieving name of the source\n",
    "FQDN_ALLOWED_CHARS = re.compile(r'[^A-Z\\d\\-.]', re.IGNORECASE)\n",
    "\n",
    "def extract_domain(domain: str):\n",
    "    if type(domain) == str:\n",
    "        domain = domain.replace('https://', '')\n",
    "        domain = domain.replace('http://', '')\n",
    "        domain = domain.replace('www.', '')\n",
    "        domain = re.sub(\"www\\d{0,1}\\.\", \"\", domain)\n",
    "        domain = domain[:253]\n",
    "        domain = domain.split('/')[0]\n",
    "        domain = domain.replace(',', '.')\n",
    "        domain = domain.replace('..', '.')\n",
    "        domain = domain.replace(' ', '')\n",
    "        domain = re.sub('(?<=\\w)\\:\\d{1,5}(?=\\/)?', '', domain)\n",
    "        domain = FQDN_ALLOWED_CHARS.sub('', domain)\n",
    "        domain = domain.lower()\n",
    "        parts = domain.split('.')\n",
    "        if len(parts) < 2:\n",
    "            return None\n",
    "        return domain\n",
    "    else:\n",
    "        return None\n",
    "    \n",
    "df['source_name'] = df['1st source'].apply(extract_domain)"
   ]
  },
  {
   "cell_type": "code",
   "execution_count": 7,
   "metadata": {},
   "outputs": [
    {
     "data": {
      "text/html": [
       "<div>\n",
       "<style scoped>\n",
       "    .dataframe tbody tr th:only-of-type {\n",
       "        vertical-align: middle;\n",
       "    }\n",
       "\n",
       "    .dataframe tbody tr th {\n",
       "        vertical-align: top;\n",
       "    }\n",
       "\n",
       "    .dataframe thead th {\n",
       "        text-align: right;\n",
       "    }\n",
       "</style>\n",
       "<table border=\"1\" class=\"dataframe\">\n",
       "  <thead>\n",
       "    <tr style=\"text-align: right;\">\n",
       "      <th></th>\n",
       "      <th>Entity</th>\n",
       "      <th>Story</th>\n",
       "      <th>Year</th>\n",
       "      <th>Records Lost</th>\n",
       "      <th>Sector</th>\n",
       "      <th>Method of Leak</th>\n",
       "      <th>1st source</th>\n",
       "      <th>Records Lost_normalized</th>\n",
       "      <th>source_name</th>\n",
       "    </tr>\n",
       "  </thead>\n",
       "  <tbody>\n",
       "    <tr>\n",
       "      <th>0</th>\n",
       "      <td>River City Media</td>\n",
       "      <td>A dodgy backup has allegedly resulted in over ...</td>\n",
       "      <td>2017</td>\n",
       "      <td>1.37e+09</td>\n",
       "      <td>Web</td>\n",
       "      <td>Accidentally published</td>\n",
       "      <td>https://betanews.com/2017/03/06/river-city-med...</td>\n",
       "      <td>1370000000</td>\n",
       "      <td>betanews.com</td>\n",
       "    </tr>\n",
       "    <tr>\n",
       "      <th>1</th>\n",
       "      <td>Unique Identification Authority of India</td>\n",
       "      <td>A report says that full data base has been exp...</td>\n",
       "      <td>2017</td>\n",
       "      <td>1e+09</td>\n",
       "      <td>Government</td>\n",
       "      <td>Poor security</td>\n",
       "      <td>http://www.tribuneindia.com/news/nation/rs-500...</td>\n",
       "      <td>1000000000</td>\n",
       "      <td>tribuneindia.com</td>\n",
       "    </tr>\n",
       "    <tr>\n",
       "      <th>2</th>\n",
       "      <td>Yahoo</td>\n",
       "      <td>Happened in 2013 but only disclosed late 2016....</td>\n",
       "      <td>2013</td>\n",
       "      <td>1e+09</td>\n",
       "      <td>Web</td>\n",
       "      <td>Hacked</td>\n",
       "      <td>http://www.nytimes.com/2016/12/14/technology/y...</td>\n",
       "      <td>1000000000</td>\n",
       "      <td>nytimes.com</td>\n",
       "    </tr>\n",
       "    <tr>\n",
       "      <th>3</th>\n",
       "      <td>Spambot</td>\n",
       "      <td>A misconfigured spambot has leaked over 700m r...</td>\n",
       "      <td>2017</td>\n",
       "      <td>7.11e+08</td>\n",
       "      <td>Web</td>\n",
       "      <td>Poor security</td>\n",
       "      <td>https://www.theguardian.com/technology/2017/au...</td>\n",
       "      <td>711000000</td>\n",
       "      <td>theguardian.com</td>\n",
       "    </tr>\n",
       "    <tr>\n",
       "      <th>4</th>\n",
       "      <td>Yahoo</td>\n",
       "      <td>Happened in 2014, but no. records stolen was o...</td>\n",
       "      <td>2014</td>\n",
       "      <td>5e+08</td>\n",
       "      <td>Web</td>\n",
       "      <td>Hacked</td>\n",
       "      <td>http://uk.businessinsider.com/yahoo-hack-by-st...</td>\n",
       "      <td>500000000</td>\n",
       "      <td>uk.businessinsider.com</td>\n",
       "    </tr>\n",
       "  </tbody>\n",
       "</table>\n",
       "</div>"
      ],
      "text/plain": [
       "                                     Entity  \\\n",
       "0                          River City Media   \n",
       "1  Unique Identification Authority of India   \n",
       "2                                     Yahoo   \n",
       "3                                   Spambot   \n",
       "4                                     Yahoo   \n",
       "\n",
       "                                               Story  Year Records Lost  \\\n",
       "0  A dodgy backup has allegedly resulted in over ...  2017     1.37e+09   \n",
       "1  A report says that full data base has been exp...  2017        1e+09   \n",
       "2  Happened in 2013 but only disclosed late 2016....  2013        1e+09   \n",
       "3  A misconfigured spambot has leaked over 700m r...  2017     7.11e+08   \n",
       "4  Happened in 2014, but no. records stolen was o...  2014        5e+08   \n",
       "\n",
       "       Sector          Method of Leak  \\\n",
       "0         Web  Accidentally published   \n",
       "1  Government           Poor security   \n",
       "2         Web                  Hacked   \n",
       "3         Web           Poor security   \n",
       "4         Web                  Hacked   \n",
       "\n",
       "                                          1st source  Records Lost_normalized  \\\n",
       "0  https://betanews.com/2017/03/06/river-city-med...               1370000000   \n",
       "1  http://www.tribuneindia.com/news/nation/rs-500...               1000000000   \n",
       "2  http://www.nytimes.com/2016/12/14/technology/y...               1000000000   \n",
       "3  https://www.theguardian.com/technology/2017/au...                711000000   \n",
       "4  http://uk.businessinsider.com/yahoo-hack-by-st...                500000000   \n",
       "\n",
       "              source_name  \n",
       "0            betanews.com  \n",
       "1        tribuneindia.com  \n",
       "2             nytimes.com  \n",
       "3         theguardian.com  \n",
       "4  uk.businessinsider.com  "
      ]
     },
     "execution_count": 7,
     "metadata": {},
     "output_type": "execute_result"
    }
   ],
   "source": [
    "# sort by the number of lost records\n",
    "df = df.sort_values(by='Records Lost_normalized', ascending=False).reset_index(drop=True)\n",
    "df.head(5)"
   ]
  },
  {
   "cell_type": "code",
   "execution_count": 8,
   "metadata": {},
   "outputs": [
    {
     "data": {
      "text/plain": [
       "databreaches.net        11\n",
       "zdnet.com               11\n",
       "theguardian.com         10\n",
       "motherboard.vice.com     8\n",
       "news.bbc.co.uk           7\n",
       "computerworld.com        7\n",
       "reuters.com              7\n",
       "money.cnn.com            6\n",
       "bbc.co.uk                6\n",
       "pcworld.com              6\n",
       "Name: source_name, dtype: int64"
      ]
     },
     "execution_count": 8,
     "metadata": {},
     "output_type": "execute_result"
    }
   ],
   "source": [
    "# what is the top 10 of the most common source name ? \n",
    "df['source_name'].value_counts().head(10)"
   ]
  },
  {
   "cell_type": "code",
   "execution_count": 9,
   "metadata": {},
   "outputs": [
    {
     "data": {
      "text/plain": [
       "<matplotlib.axes._subplots.AxesSubplot at 0x7fa3778d1070>"
      ]
     },
     "execution_count": 9,
     "metadata": {},
     "output_type": "execute_result"
    },
    {
     "data": {
      "image/png": "[encoded data removed]",
      "text/plain": [
       "<Figure size 432x288 with 1 Axes>"
      ]
     },
     "metadata": {
      "needs_background": "light"
     },
     "output_type": "display_data"
    }
   ],
   "source": [
    "# What is the total number of lost records per sector ? what is the riskiest sector ? \n",
    "plt.xscale('log')\n",
    "df.groupby('Sector')['Records Lost_normalized'].sum().sort_values(ascending=True).plot(kind='barh')"
   ]
  },
  {
   "cell_type": "code",
   "execution_count": 10,
   "metadata": {},
   "outputs": [
    {
     "data": {
      "text/plain": [
       "<matplotlib.axes._subplots.AxesSubplot at 0x7fa37800f640>"
      ]
     },
     "execution_count": 10,
     "metadata": {},
     "output_type": "execute_result"
    },
    {
     "data": {
      "image/png": "[encoded data removed]",
      "text/plain": [
       "<Figure size 432x288 with 1 Axes>"
      ]
     },
     "metadata": {
      "needs_background": "light"
     },
     "output_type": "display_data"
    }
   ],
   "source": [
    "# What is the total number of lost records per year ? what is the worst year ? \n",
    "df.groupby('Year')['Records Lost_normalized'].sum().sort_values(ascending=True).plot(kind='barh')"
   ]
  },
  {
   "cell_type": "code",
   "execution_count": 27,
   "metadata": {},
   "outputs": [
    {
     "data": {
      "text/html": [
       "<div>\n",
       "<style scoped>\n",
       "    .dataframe tbody tr th:only-of-type {\n",
       "        vertical-align: middle;\n",
       "    }\n",
       "\n",
       "    .dataframe tbody tr th {\n",
       "        vertical-align: top;\n",
       "    }\n",
       "\n",
       "    .dataframe thead th {\n",
       "        text-align: right;\n",
       "    }\n",
       "</style>\n",
       "<table border=\"1\" class=\"dataframe\">\n",
       "  <thead>\n",
       "    <tr style=\"text-align: right;\">\n",
       "      <th>Year</th>\n",
       "      <th>2004</th>\n",
       "      <th>2005</th>\n",
       "      <th>2006</th>\n",
       "      <th>2007</th>\n",
       "      <th>2008</th>\n",
       "      <th>2009</th>\n",
       "      <th>2010</th>\n",
       "      <th>2011</th>\n",
       "      <th>2012</th>\n",
       "      <th>2013</th>\n",
       "      <th>2014</th>\n",
       "      <th>2015</th>\n",
       "      <th>2016</th>\n",
       "      <th>2017</th>\n",
       "    </tr>\n",
       "    <tr>\n",
       "      <th>Sector</th>\n",
       "      <th></th>\n",
       "      <th></th>\n",
       "      <th></th>\n",
       "      <th></th>\n",
       "      <th></th>\n",
       "      <th></th>\n",
       "      <th></th>\n",
       "      <th></th>\n",
       "      <th></th>\n",
       "      <th></th>\n",
       "      <th></th>\n",
       "      <th></th>\n",
       "      <th></th>\n",
       "      <th></th>\n",
       "    </tr>\n",
       "  </thead>\n",
       "  <tbody>\n",
       "    <tr>\n",
       "      <th>Web</th>\n",
       "      <td>92000000</td>\n",
       "      <td>0</td>\n",
       "      <td>20000000</td>\n",
       "      <td>1600000</td>\n",
       "      <td>18000000</td>\n",
       "      <td>0</td>\n",
       "      <td>3800000</td>\n",
       "      <td>96262000</td>\n",
       "      <td>287763792</td>\n",
       "      <td>1203950000</td>\n",
       "      <td>653936000</td>\n",
       "      <td>350257000</td>\n",
       "      <td>940970658</td>\n",
       "      <td>2107700000</td>\n",
       "    </tr>\n",
       "    <tr>\n",
       "      <th>Government</th>\n",
       "      <td>0</td>\n",
       "      <td>0</td>\n",
       "      <td>26500000</td>\n",
       "      <td>31249000</td>\n",
       "      <td>13384500</td>\n",
       "      <td>84460378</td>\n",
       "      <td>903000</td>\n",
       "      <td>9964893</td>\n",
       "      <td>20680000</td>\n",
       "      <td>3560000</td>\n",
       "      <td>5190396</td>\n",
       "      <td>29100000</td>\n",
       "      <td>109886186</td>\n",
       "      <td>1003700000</td>\n",
       "    </tr>\n",
       "    <tr>\n",
       "      <th>Financial</th>\n",
       "      <td>0</td>\n",
       "      <td>44225000</td>\n",
       "      <td>2600000</td>\n",
       "      <td>15800000</td>\n",
       "      <td>21500000</td>\n",
       "      <td>135000000</td>\n",
       "      <td>6300000</td>\n",
       "      <td>394083</td>\n",
       "      <td>370000000</td>\n",
       "      <td>150000</td>\n",
       "      <td>103200000</td>\n",
       "      <td>40000</td>\n",
       "      <td>0</td>\n",
       "      <td>144870000</td>\n",
       "    </tr>\n",
       "    <tr>\n",
       "      <th>Retail</th>\n",
       "      <td>0</td>\n",
       "      <td>0</td>\n",
       "      <td>0</td>\n",
       "      <td>107637405</td>\n",
       "      <td>97000</td>\n",
       "      <td>0</td>\n",
       "      <td>0</td>\n",
       "      <td>483000</td>\n",
       "      <td>0</td>\n",
       "      <td>0</td>\n",
       "      <td>132260000</td>\n",
       "      <td>500000</td>\n",
       "      <td>1025</td>\n",
       "      <td>2000000</td>\n",
       "    </tr>\n",
       "    <tr>\n",
       "      <th>Gaming</th>\n",
       "      <td>0</td>\n",
       "      <td>0</td>\n",
       "      <td>0</td>\n",
       "      <td>0</td>\n",
       "      <td>0</td>\n",
       "      <td>32000000</td>\n",
       "      <td>0</td>\n",
       "      <td>103090755</td>\n",
       "      <td>14000000</td>\n",
       "      <td>58240000</td>\n",
       "      <td>10000000</td>\n",
       "      <td>0</td>\n",
       "      <td>0</td>\n",
       "      <td>0</td>\n",
       "    </tr>\n",
       "    <tr>\n",
       "      <th>Healthcare</th>\n",
       "      <td>0</td>\n",
       "      <td>0</td>\n",
       "      <td>0</td>\n",
       "      <td>0</td>\n",
       "      <td>0</td>\n",
       "      <td>4619188</td>\n",
       "      <td>4216476</td>\n",
       "      <td>17003746</td>\n",
       "      <td>543000</td>\n",
       "      <td>4100000</td>\n",
       "      <td>15500000</td>\n",
       "      <td>81181309</td>\n",
       "      <td>4396000</td>\n",
       "      <td>0</td>\n",
       "    </tr>\n",
       "    <tr>\n",
       "      <th>App</th>\n",
       "      <td>0</td>\n",
       "      <td>0</td>\n",
       "      <td>0</td>\n",
       "      <td>0</td>\n",
       "      <td>0</td>\n",
       "      <td>0</td>\n",
       "      <td>0</td>\n",
       "      <td>0</td>\n",
       "      <td>0</td>\n",
       "      <td>0</td>\n",
       "      <td>1700000</td>\n",
       "      <td>50000</td>\n",
       "      <td>58700000</td>\n",
       "      <td>32833959</td>\n",
       "    </tr>\n",
       "    <tr>\n",
       "      <th>Telecoms</th>\n",
       "      <td>0</td>\n",
       "      <td>0</td>\n",
       "      <td>21000000</td>\n",
       "      <td>0</td>\n",
       "      <td>113000</td>\n",
       "      <td>0</td>\n",
       "      <td>114000</td>\n",
       "      <td>0</td>\n",
       "      <td>8700000</td>\n",
       "      <td>2170000</td>\n",
       "      <td>46200000</td>\n",
       "      <td>0</td>\n",
       "      <td>200000</td>\n",
       "      <td>1940000</td>\n",
       "    </tr>\n",
       "    <tr>\n",
       "      <th>Tech</th>\n",
       "      <td>0</td>\n",
       "      <td>0</td>\n",
       "      <td>200000</td>\n",
       "      <td>0</td>\n",
       "      <td>0</td>\n",
       "      <td>573000</td>\n",
       "      <td>0</td>\n",
       "      <td>0</td>\n",
       "      <td>12367232</td>\n",
       "      <td>38275000</td>\n",
       "      <td>1000000</td>\n",
       "      <td>900000</td>\n",
       "      <td>15000000</td>\n",
       "      <td>3000000</td>\n",
       "    </tr>\n",
       "    <tr>\n",
       "      <th>Media</th>\n",
       "      <td>0</td>\n",
       "      <td>0</td>\n",
       "      <td>0</td>\n",
       "      <td>0</td>\n",
       "      <td>0</td>\n",
       "      <td>0</td>\n",
       "      <td>0</td>\n",
       "      <td>1270000</td>\n",
       "      <td>0</td>\n",
       "      <td>0</td>\n",
       "      <td>10000000</td>\n",
       "      <td>0</td>\n",
       "      <td>2200000</td>\n",
       "      <td>0</td>\n",
       "    </tr>\n",
       "    <tr>\n",
       "      <th>Energy</th>\n",
       "      <td>0</td>\n",
       "      <td>0</td>\n",
       "      <td>0</td>\n",
       "      <td>0</td>\n",
       "      <td>11100000</td>\n",
       "      <td>0</td>\n",
       "      <td>0</td>\n",
       "      <td>0</td>\n",
       "      <td>1800000</td>\n",
       "      <td>110000</td>\n",
       "      <td>0</td>\n",
       "      <td>0</td>\n",
       "      <td>0</td>\n",
       "      <td>0</td>\n",
       "    </tr>\n",
       "    <tr>\n",
       "      <th>Legal</th>\n",
       "      <td>0</td>\n",
       "      <td>0</td>\n",
       "      <td>0</td>\n",
       "      <td>0</td>\n",
       "      <td>0</td>\n",
       "      <td>0</td>\n",
       "      <td>0</td>\n",
       "      <td>0</td>\n",
       "      <td>0</td>\n",
       "      <td>0</td>\n",
       "      <td>0</td>\n",
       "      <td>0</td>\n",
       "      <td>11500000</td>\n",
       "      <td>0</td>\n",
       "    </tr>\n",
       "    <tr>\n",
       "      <th>Academia</th>\n",
       "      <td>0</td>\n",
       "      <td>0</td>\n",
       "      <td>0</td>\n",
       "      <td>0</td>\n",
       "      <td>4372000</td>\n",
       "      <td>160000</td>\n",
       "      <td>803000</td>\n",
       "      <td>73000</td>\n",
       "      <td>0</td>\n",
       "      <td>271000</td>\n",
       "      <td>0</td>\n",
       "      <td>0</td>\n",
       "      <td>0</td>\n",
       "      <td>0</td>\n",
       "    </tr>\n",
       "    <tr>\n",
       "      <th>Transport</th>\n",
       "      <td>0</td>\n",
       "      <td>0</td>\n",
       "      <td>0</td>\n",
       "      <td>0</td>\n",
       "      <td>0</td>\n",
       "      <td>0</td>\n",
       "      <td>0</td>\n",
       "      <td>0</td>\n",
       "      <td>0</td>\n",
       "      <td>1460000</td>\n",
       "      <td>802000</td>\n",
       "      <td>0</td>\n",
       "      <td>0</td>\n",
       "      <td>0</td>\n",
       "    </tr>\n",
       "    <tr>\n",
       "      <th>Military</th>\n",
       "      <td>0</td>\n",
       "      <td>0</td>\n",
       "      <td>0</td>\n",
       "      <td>0</td>\n",
       "      <td>0</td>\n",
       "      <td>0</td>\n",
       "      <td>0</td>\n",
       "      <td>935000</td>\n",
       "      <td>0</td>\n",
       "      <td>0</td>\n",
       "      <td>0</td>\n",
       "      <td>0</td>\n",
       "      <td>0</td>\n",
       "      <td>0</td>\n",
       "    </tr>\n",
       "  </tbody>\n",
       "</table>\n",
       "</div>"
      ],
      "text/plain": [
       "Year            2004      2005      2006       2007      2008       2009  \\\n",
       "Sector                                                                     \n",
       "Web         92000000         0  20000000    1600000  18000000          0   \n",
       "Government         0         0  26500000   31249000  13384500   84460378   \n",
       "Financial          0  44225000   2600000   15800000  21500000  135000000   \n",
       "Retail             0         0         0  107637405     97000          0   \n",
       "Gaming             0         0         0          0         0   32000000   \n",
       "Healthcare         0         0         0          0         0    4619188   \n",
       "App                0         0         0          0         0          0   \n",
       "Telecoms           0         0  21000000          0    113000          0   \n",
       "Tech               0         0    200000          0         0     573000   \n",
       "Media              0         0         0          0         0          0   \n",
       "Energy             0         0         0          0  11100000          0   \n",
       "Legal              0         0         0          0         0          0   \n",
       "Academia           0         0         0          0   4372000     160000   \n",
       "Transport          0         0         0          0         0          0   \n",
       "Military           0         0         0          0         0          0   \n",
       "\n",
       "Year           2010       2011       2012        2013       2014       2015  \\\n",
       "Sector                                                                        \n",
       "Web         3800000   96262000  287763792  1203950000  653936000  350257000   \n",
       "Government   903000    9964893   20680000     3560000    5190396   29100000   \n",
       "Financial   6300000     394083  370000000      150000  103200000      40000   \n",
       "Retail            0     483000          0           0  132260000     500000   \n",
       "Gaming            0  103090755   14000000    58240000   10000000          0   \n",
       "Healthcare  4216476   17003746     543000     4100000   15500000   81181309   \n",
       "App               0          0          0           0    1700000      50000   \n",
       "Telecoms     114000          0    8700000     2170000   46200000          0   \n",
       "Tech              0          0   12367232    38275000    1000000     900000   \n",
       "Media             0    1270000          0           0   10000000          0   \n",
       "Energy            0          0    1800000      110000          0          0   \n",
       "Legal             0          0          0           0          0          0   \n",
       "Academia     803000      73000          0      271000          0          0   \n",
       "Transport         0          0          0     1460000     802000          0   \n",
       "Military          0     935000          0           0          0          0   \n",
       "\n",
       "Year             2016        2017  \n",
       "Sector                             \n",
       "Web         940970658  2107700000  \n",
       "Government  109886186  1003700000  \n",
       "Financial           0   144870000  \n",
       "Retail           1025     2000000  \n",
       "Gaming              0           0  \n",
       "Healthcare    4396000           0  \n",
       "App          58700000    32833959  \n",
       "Telecoms       200000     1940000  \n",
       "Tech         15000000     3000000  \n",
       "Media         2200000           0  \n",
       "Energy              0           0  \n",
       "Legal        11500000           0  \n",
       "Academia            0           0  \n",
       "Transport           0           0  \n",
       "Military            0           0  "
      ]
     },
     "execution_count": 27,
     "metadata": {},
     "output_type": "execute_result"
    }
   ],
   "source": [
    "# creating a pivot table with Sector as index and year as column to have a better understanding of our dataset\n",
    "pivot_1 = pd.pivot_table(df, index='Sector', columns='Year', values='Records Lost_normalized', aggfunc=np.sum, fill_value=0)\n",
    "# sorting sector according to the number of lost records\n",
    "idx_pivot_1 = pivot_1.sum(axis=1).sort_values(ascending=False).index\n",
    "pivot_1 = pivot_1.loc[idx_pivot_1]\n",
    "pivot_1"
   ]
  },
  {
   "cell_type": "code",
   "execution_count": 43,
   "metadata": {},
   "outputs": [
    {
     "data": {
      "text/plain": [
       "<matplotlib.axes._subplots.AxesSubplot at 0x7fa37b1802e0>"
      ]
     },
     "execution_count": 43,
     "metadata": {},
     "output_type": "execute_result"
    },
    {
     "data": {
      "image/png": "[encoded data removed]",
      "text/plain": [
       "<Figure size 432x288 with 1 Axes>"
      ]
     },
     "metadata": {
      "needs_background": "light"
     },
     "output_type": "display_data"
    }
   ],
   "source": [
    "# first way to observe the data: which sectors have been affected and when ?\n",
    "sns.heatmap(pivot_1, cmap='gist_heat_r', linewidths=0.5, linecolor='white', vmax=1, cbar=False)"
   ]
  },
  {
   "cell_type": "code",
   "execution_count": 40,
   "metadata": {},
   "outputs": [
    {
     "data": {
      "text/plain": [
       "<matplotlib.axes._subplots.AxesSubplot at 0x7fa37bcbf1c0>"
      ]
     },
     "execution_count": 40,
     "metadata": {},
     "output_type": "execute_result"
    },
    {
     "data": {
      "image/png": "[encoded data removed]",
      "text/plain": [
       "<Figure size 432x288 with 2 Axes>"
      ]
     },
     "metadata": {
      "needs_background": "light"
     },
     "output_type": "display_data"
    }
   ],
   "source": [
    "# second way to observe the data: how the different sectors have been affected and when ?\n",
    "sns.heatmap(pivot_1, cmap='gist_heat_r', linewidths=0.5, linecolor='white')"
   ]
  },
  {
   "cell_type": "code",
   "execution_count": 149,
   "metadata": {},
   "outputs": [
    {
     "data": {
      "text/plain": [
       "<matplotlib.axes._subplots.AxesSubplot at 0x7fa364321a30>"
      ]
     },
     "execution_count": 149,
     "metadata": {},
     "output_type": "execute_result"
    },
    {
     "data": {
      "image/png": "[encoded data removed]",
      "text/plain": [
       "<Figure size 432x288 with 2 Axes>"
      ]
     },
     "metadata": {
      "needs_background": "light"
     },
     "output_type": "display_data"
    }
   ],
   "source": [
    "# previously we saw that most of the heatmap is eclipsed by the very high values from the Web sector. One solution to increase readability by using a log scale:\n",
    "\n",
    "mycolor = sns.color_palette(\"hls\", n_colors=6)\n",
    "CMAP = LinearSegmentedColormap.from_list('custom_cmap', mycolor, len(mycolor))\n",
    "sns.heatmap(pivot_1,\n",
    "            cmap=CMAP,\n",
    "            linewidths=0.5,\n",
    "            linecolor='white',\n",
    "            norm=LogNorm(df['Records Lost_normalized'].min(),df['Records Lost_normalized'].max()),\n",
    "            vmin=df['Records Lost_normalized'].min(),\n",
    "            vmax=df['Records Lost_normalized'].max())"
   ]
  },
  {
   "cell_type": "code",
   "execution_count": 182,
   "metadata": {},
   "outputs": [
    {
     "data": {
      "application/vnd.plotly.v1+json": {
       "config": {
        "plotlyServerURL": "https://plot.ly"
       },
       "data": [
        {
         "hovertemplate": "<b>%{hovertext}</b><br><br>Method of Leak=Accidentally published<br>Sector=%{x}<br>Year=%{y}<br>Records Lost_normalized=%{marker.size}<extra></extra>",
         "hovertext": [
          "River City Media",
          "AOL",
          "Apple*",
          "Office of the Texas Attorney General",
          "Facebook",
          "Privatization Agency of the Republic of Serbia",
          "Norwegian Tax Authorities",
          "State of Texas",
          "CEX",
          "Jefferson County",
          "NMBS",
          "Red Cross Blood Service",
          "Australian Immigration Department",
          "TerraCom & YourTel",
          "Citigroup",
          "US Army",
          "Yale University"
         ],
         "legendgroup": "Accidentally published",
         "marker": {
          "color": "#636efa",
          "size": [
           1370000000,
           20000000,
           12367232,
           6500000,
           6000000,
           5190396,
           3950000,
           3500000,
           2000000,
           1600000,
           1460000,
           550000,
           500000,
           170000,
           150000,
           50000,
           43000
          ],
          "sizemode": "area",
          "sizeref": 380555.55555555556,
          "symbol": "circle"
         },
         "mode": "markers",
         "name": "Accidentally published",
         "orientation": "v",
         "showlegend": true,
         "type": "scatter",
         "x": [
          "Web",
          "Web",
          "Tech",
          "Government",
          "Web",
          "Government",
          "Government",
          "Government",
          "Retail",
          "Government",
          "Transport",
          "Healthcare",
          "Government",
          "Telecoms",
          "Financial",
          "Government",
          "Academia"
         ],
         "xaxis": "x",
         "y": [
          "2017",
          "2006",
          "2012",
          "2012",
          "2013",
          "2014",
          "2008",
          "2011",
          "2017",
          "2008",
          "2013",
          "2016",
          "2015",
          "2013",
          "2013",
          "2011",
          "2010"
         ],
         "yaxis": "y"
        },
        {
         "hovertemplate": "<b>%{hovertext}</b><br><br>Method of Leak=Poor security<br>Sector=%{x}<br>Year=%{y}<br>Records Lost_normalized=%{marker.size}<extra></extra>",
         "hovertext": [
          "Unique Identification Authority of India",
          "Spambot",
          "Deep Root Analytics",
          "Al.type",
          "Sanrio",
          "Swedish Transport Agency",
          "World Check",
          "Waterly",
          "SVR Tracking",
          "RootsWeb",
          "Accendo Insurance Co.",
          "Indiana University",
          "Automatic Data Processing",
          "Memorial Healthcare System",
          "Mozilla",
          "New York Taxis",
          "Uber"
         ],
         "legendgroup": "Poor security",
         "marker": {
          "color": "#EF553B",
          "size": [
           1000000000,
           711000000,
           198000000,
           31293959,
           3300000,
           3000000,
           2200000,
           1000000,
           540000,
           300000,
           175350,
           146000,
           125000,
           115143,
           76000,
           52000,
           50000
          ],
          "sizemode": "area",
          "sizeref": 380555.55555555556,
          "symbol": "circle"
         },
         "mode": "markers",
         "name": "Poor security",
         "orientation": "v",
         "showlegend": true,
         "type": "scatter",
         "x": [
          "Government",
          "Web",
          "Web",
          "App",
          "Web",
          "Government",
          "Media",
          "App",
          "App",
          "Web",
          "Healthcare",
          "Academia",
          "Financial",
          "Healthcare",
          "Web",
          "Transport",
          "App"
         ],
         "xaxis": "x",
         "y": [
          "2017",
          "2017",
          "2015",
          "2017",
          "2015",
          "2015",
          "2016",
          "2017",
          "2017",
          "2015",
          "2011",
          "2013",
          "2005",
          "2011",
          "2014",
          "2014",
          "2015"
         ],
         "yaxis": "y"
        },
        {
         "hovertemplate": "<b>%{hovertext}</b><br><br>Method of Leak=Hacked<br>Sector=%{x}<br>Year=%{y}<br>Records Lost_normalized=%{marker.size}<extra></extra>",
         "hovertext": [
          "Yahoo",
          "Yahoo",
          "Friend Finder Network",
          "MySpace",
          "Massive American business hack",
          "Ebay",
          "Equifax",
          "Heartland",
          "LinkedIn",
          "VK",
          "TK / TJ Maxx",
          "Dailymotion",
          "Anthem",
          "Sony PSN",
          "JP Morgan Chase",
          "Target",
          "Securus Technologies",
          "Dropbox",
          "Tumblr",
          "UbiSoft",
          "Uber",
          "Home Depot",
          "Philippines’ Commission on Elections",
          "Living Social",
          "Evernote",
          "Turkish citizenship database",
          "Malaysian telcos & MVNOs",
          "Last.fm",
          "Weebly",
          "Cardsystems Solutions Inc.",
          "Fling",
          "AshleyMadison.com",
          "Adobe",
          "Steam",
          "Yahoo",
          "RockYou!",
          "Tianya",
          "Mail. ru",
          "Sony Online Entertainment",
          "Zappos",
          "Yahoo Japan",
          "US Office of Personnel Management (2nd Breach)",
          "Auction.co.kr",
          "Disqus",
          "Zomato",
          "Telegram",
          "Experian / T-mobile",
          "Blizzard",
          "Nexon Korea Corp",
          "Kromtech",
          "Mossack Fonseca",
          "Premera",
          "Twitch.tv",
          "Interpark",
          "Sony Pictures",
          "178.com",
          "Lynda.com",
          "Greek government",
          "KT Corp.",
          "Virginia Dept. Of Health",
          "LinkedIn, eHarmony, Last.fm",
          "Gamigo",
          "Global Payments",
          "Minecraft",
          "ClixSense",
          "VTech",
          "TD Ameritrade",
          "China Software Developer Network",
          "Chile Ministry Of Education",
          "Instagram",
          "CheckFree Corporation",
          "Clinton campaign",
          "Data Processors International",
          "Gmail*",
          "SnapChat",
          "Community Health Systems",
          "Hannaford Brothers Supermarket Chain",
          "KDDI",
          "ssndob.ms",
          "European Central Bank",
          "UPS",
          "US Office of Personnel Management",
          "Adult Friend Finder",
          "Banner Health",
          "South Carolina State Dept. of Revenue",
          "Epsilon",
          "Three Iranian banks",
          "Viacom",
          "Cellebrite",
          "CarPhone Warehouse",
          "HSBC Turkey",
          "AOL",
          "Betfair",
          "Linux Ubuntu forums",
          "Ubuntu",
          "Bell",
          "Snapchat",
          "Imgur",
          "Monster.com",
          "TIO Networks",
          "Gawker.com",
          "RBS Worldpay",
          "KM.ru",
          "Nival",
          "Sega",
          "Washington Post",
          "Staples",
          "Neiman Marcus",
          "Carefirst",
          "Oregon Department of Motor Vehicles",
          "Sony Pictures",
          "Drupal",
          "D&B, Altegrity",
          "Stratfor",
          "MacRumours.com",
          "Brazzers",
          "Medicaid",
          "Ohio State University",
          "Japan Airlines",
          "DaFont",
          "Dominios Pizzas (France)",
          "Network Solutions",
          "Virginia Prescription Monitoring Program",
          "Puerto Rico Department of Health",
          "NASDAQ",
          "Slack",
          "Hacking Team",
          "British Airways",
          "OVH",
          "Scribd",
          "Yahoo Voices",
          "Formspring",
          "MSpy",
          "US Federal Reserve Bank of Cleveland",
          "Citigroup",
          "PayAsUGym",
          "Southern California Medical-Legal Consultants",
          "Honda Canada",
          "Apple",
          "Syrian government",
          "Wonga",
          "Twitter",
          "Nintendo",
          "Seacoast Radiology, PA",
          "Massachusetts Government",
          "Three",
          "Restaurant Depot",
          "Bethesda Game Studios",
          "San Francisco Public Utilities Commission",
          "Militarysingles.com",
          "Washington State court system",
          "University of California Berkeley",
          "TalkTalk",
          "Ankle & foot Center of Tampa Bay, Inc.",
          "Kirkwood Community College",
          "US Law Enforcement",
          "AT&T",
          "Central Hudson Gas & Electric",
          "IRS",
          "Malaysian medical practitioners",
          "University of Wisconsin - Milwaukee",
          "Writerspace.com",
          "OnePlus",
          "Invest Bank",
          "uTorrent",
          "Quest Diagnostics",
          "Dropbox",
          "Wendy's"
         ],
         "legendgroup": "Hacked",
         "marker": {
          "color": "#00cc96",
          "size": [
           1000000000,
           500000000,
           412000000,
           164000000,
           160000000,
           145000000,
           143000000,
           130000000,
           117000000,
           100544934,
           94000000,
           85200000,
           80000000,
           77000000,
           76000000,
           70000000,
           70000000,
           68700000,
           65000000,
           58000000,
           57000000,
           56000000,
           55000000,
           50000000,
           50000000,
           49611709,
           46200000,
           43500000,
           43000000,
           40000000,
           40000000,
           37000000,
           36000000,
           35000000,
           32000000,
           32000000,
           28000000,
           25000000,
           24600000,
           24000000,
           22000000,
           21500000,
           18000000,
           17500000,
           17000000,
           15000000,
           15000000,
           14000000,
           13200000,
           13000000,
           11500000,
           11000000,
           10000000,
           10000000,
           10000000,
           10000000,
           9500000,
           9000000,
           8700000,
           8257378,
           8000000,
           8000000,
           7000000,
           7000000,
           6600000,
           6400000,
           6300000,
           6000000,
           6000000,
           6000000,
           5000000,
           5000000,
           5000000,
           5000000,
           4700000,
           4500000,
           4200000,
           4000000,
           4000000,
           4000000,
           4000000,
           4000000,
           3900000,
           3700000,
           3600000,
           3000000,
           3000000,
           3000000,
           3000000,
           2700000,
           2700000,
           2400000,
           2300000,
           2000000,
           2000000,
           1900000,
           1700000,
           1700000,
           1600000,
           1600000,
           1500000,
           1500000,
           1500000,
           1500000,
           1290755,
           1270000,
           1160000,
           1100000,
           1100000,
           1000000,
           1000000,
           1000000,
           1000000,
           935000,
           860000,
           790724,
           780000,
           760000,
           750000,
           700000,
           600000,
           573000,
           531400,
           515000,
           500000,
           500000,
           500000,
           500000,
           500000,
           500000,
           450000,
           420000,
           400000,
           400000,
           360083,
           300000,
           300000,
           283000,
           275000,
           274477,
           270000,
           250000,
           240000,
           231400,
           210000,
           200000,
           200000,
           200000,
           180000,
           163792,
           160000,
           160000,
           157000,
           156000,
           125000,
           123461,
           114000,
           110000,
           100000,
           81309,
           73000,
           62000,
           40000,
           40000,
           35000,
           34000,
           30000,
           1025
          ],
          "sizemode": "area",
          "sizeref": 380555.55555555556,
          "symbol": "circle"
         },
         "mode": "markers",
         "name": "Hacked",
         "orientation": "v",
         "showlegend": true,
         "type": "scatter",
         "x": [
          "Web",
          "Web",
          "Web",
          "Web",
          "Financial",
          "Web",
          "Financial",
          "Financial",
          "Web",
          "Web",
          "Retail",
          "Web",
          "Healthcare",
          "Gaming",
          "Financial",
          "Retail",
          "Web",
          "Web",
          "Web",
          "Gaming",
          "App",
          "Retail",
          "Government",
          "Web",
          "Web",
          "Government",
          "Telecoms",
          "Web",
          "Web",
          "Financial",
          "Web",
          "Web",
          "Tech",
          "Web",
          "Web",
          "Gaming",
          "Web",
          "Web",
          "Gaming",
          "Web",
          "Web",
          "Government",
          "Web",
          "Web",
          "Web",
          "Tech",
          "Web",
          "Gaming",
          "Web",
          "Web",
          "Legal",
          "Healthcare",
          "Gaming",
          "Web",
          "Media",
          "Web",
          "Web",
          "Government",
          "Telecoms",
          "Government",
          "Web",
          "Web",
          "Financial",
          "Web",
          "Web",
          "Web",
          "Financial",
          "Web",
          "Government",
          "Web",
          "Financial",
          "Government",
          "Financial",
          "Web",
          "Web",
          "Healthcare",
          "Retail",
          "Telecoms",
          "Web",
          "Financial",
          "Retail",
          "Government",
          "Web",
          "Healthcare",
          "Government",
          "Web",
          "Financial",
          "Web",
          "Tech",
          "Web",
          "Financial",
          "Web",
          "Web",
          "Web",
          "Tech",
          "Telecoms",
          "App",
          "App",
          "Web",
          "Financial",
          "Web",
          "Financial",
          "Web",
          "Web",
          "Gaming",
          "Media",
          "Retail",
          "Retail",
          "Healthcare",
          "Government",
          "Web",
          "Web",
          "Tech",
          "Military",
          "Web",
          "Web",
          "Government",
          "Academia",
          "Transport",
          "Web",
          "Web",
          "Tech",
          "Healthcare",
          "Healthcare",
          "Financial",
          "Tech",
          "Web",
          "Retail",
          "Web",
          "Web",
          "Web",
          "Web",
          "Tech",
          "Financial",
          "Financial",
          "Web",
          "Healthcare",
          "Retail",
          "Tech",
          "Government",
          "Financial",
          "Web",
          "Gaming",
          "Healthcare",
          "Government",
          "Telecoms",
          "Retail",
          "Gaming",
          "Government",
          "Web",
          "Government",
          "Academia",
          "Web",
          "Healthcare",
          "Academia",
          "Government",
          "Telecoms",
          "Energy",
          "Government",
          "Healthcare",
          "Academia",
          "Web",
          "Telecoms",
          "Financial",
          "Web",
          "Healthcare",
          "Web",
          "Retail"
         ],
         "xaxis": "x",
         "y": [
          "2013",
          "2014",
          "2016",
          "2016",
          "2012",
          "2014",
          "2017",
          "2009",
          "2012",
          "2016",
          "2007",
          "2016",
          "2015",
          "2011",
          "2014",
          "2014",
          "2015",
          "2012",
          "2013",
          "2013",
          "2016",
          "2014",
          "2016",
          "2013",
          "2013",
          "2016",
          "2014",
          "2012",
          "2016",
          "2005",
          "2016",
          "2015",
          "2013",
          "2011",
          "2016",
          "2009",
          "2011",
          "2016",
          "2011",
          "2012",
          "2013",
          "2015",
          "2008",
          "2012",
          "2017",
          "2016",
          "2015",
          "2012",
          "2011",
          "2015",
          "2016",
          "2014",
          "2014",
          "2016",
          "2014",
          "2011",
          "2016",
          "2012",
          "2012",
          "2009",
          "2012",
          "2012",
          "2012",
          "2016",
          "2016",
          "2015",
          "2007",
          "2011",
          "2008",
          "2017",
          "2009",
          "2016",
          "2008",
          "2014",
          "2013",
          "2014",
          "2007",
          "2006",
          "2013",
          "2014",
          "2014",
          "2015",
          "2015",
          "2016",
          "2012",
          "2011",
          "2012",
          "2017",
          "2017",
          "2015",
          "2014",
          "2014",
          "2010",
          "2016",
          "2013",
          "2017",
          "2016",
          "2014",
          "2007",
          "2017",
          "2010",
          "2008",
          "2016",
          "2016",
          "2011",
          "2011",
          "2014",
          "2014",
          "2015",
          "2011",
          "2011",
          "2013",
          "2014",
          "2011",
          "2014",
          "2016",
          "2012",
          "2010",
          "2014",
          "2017",
          "2014",
          "2009",
          "2009",
          "2010",
          "2014",
          "2015",
          "2015",
          "2015",
          "2013",
          "2013",
          "2012",
          "2012",
          "2015",
          "2010",
          "2011",
          "2016",
          "2011",
          "2011",
          "2013",
          "2016",
          "2017",
          "2013",
          "2013",
          "2010",
          "2011",
          "2016",
          "2011",
          "2011",
          "2011",
          "2012",
          "2013",
          "2009",
          "2015",
          "2010",
          "2013",
          "2011",
          "2010",
          "2013",
          "2015",
          "2015",
          "2011",
          "2011",
          "2017",
          "2015",
          "2016",
          "2016",
          "2012",
          "2016"
         ],
         "yaxis": "y"
        },
        {
         "hovertemplate": "<b>%{hovertext}</b><br><br>Method of Leak=Inside job<br>Sector=%{x}<br>Year=%{y}<br>Records Lost_normalized=%{marker.size}<extra></extra>",
         "hovertext": [
          "Court Ventures",
          "AOL",
          "Korea Credit Bureau",
          "GS Caltex",
          "Dai Nippon Printing",
          "Fidelity National Information Services",
          "Countrywide Financial Corp",
          "Countrywide Financial Corp",
          "Vodafone",
          "New York State Electric & Gas",
          "Kissinger Cables",
          "National Security Agency",
          "Compass Bank",
          "Classified Iraq War documents",
          "US Military",
          "Embassy Cables",
          "South Carolina Government",
          "Mutuelle Generale de la Police",
          "Texas Lottery"
         ],
         "legendgroup": "Inside job",
         "marker": {
          "color": "#ab63fa",
          "size": [
           200000000,
           92000000,
           20000000,
           11100000,
           8637405,
           8500000,
           2600000,
           2500000,
           2000000,
           1800000,
           1700000,
           1500000,
           1000000,
           392000,
           260000,
           251000,
           228000,
           112000,
           89000
          ],
          "sizemode": "area",
          "sizeref": 380555.55555555556,
          "symbol": "circle"
         },
         "mode": "markers",
         "name": "Inside job",
         "orientation": "v",
         "showlegend": true,
         "type": "scatter",
         "x": [
          "Financial",
          "Web",
          "Financial",
          "Energy",
          "Retail",
          "Financial",
          "Financial",
          "Financial",
          "Telecoms",
          "Energy",
          "Government",
          "Government",
          "Financial",
          "Government",
          "Government",
          "Government",
          "Healthcare",
          "Healthcare",
          "Government"
         ],
         "xaxis": "x",
         "y": [
          "2012",
          "2004",
          "2014",
          "2008",
          "2007",
          "2007",
          "2006",
          "2008",
          "2013",
          "2012",
          "2013",
          "2013",
          "2007",
          "2010",
          "2010",
          "2010",
          "2012",
          "2016",
          "2007"
         ],
         "yaxis": "y"
        },
        {
         "hovertemplate": "<b>%{hovertext}</b><br><br>Method of Leak=Lost / stolen device or media<br>Sector=%{x}<br>Year=%{y}<br>Records Lost_normalized=%{marker.size}<extra></extra>",
         "hovertext": [
          "US Military",
          "US Dept of Vet Affairs",
          "UK Revenue & Customs",
          "T-Mobile, Deutsche Telecom",
          "BNY Mellon Shareowner Services",
          "NHS",
          "Tricare",
          "Sutter Medical Foundation",
          "Advocate Medical Group",
          "Citigroup",
          "Hong Kong Registration & Electoral Office",
          "Educational Credit Management Corp",
          "Driving Standards Agency",
          "Driving Standards Agency",
          "JP Morgan Chase",
          "University of Utah Hospitals & Clinics",
          "University of Miami",
          "Health Net - IBM",
          "New York City Health & Hospitals Corp.",
          "UK Ministry of Defence",
          "Health Net",
          "AvMed, Inc.",
          "Nemours Foundation",
          "Blue Cross Blue Shield of Tennessee",
          "Gap Inc",
          "South Shore Hospital, Massachusetts",
          "California Department of Child Support Services",
          "Eisenhower Medical Center",
          "Spartanburg Regional Healthcare System",
          "Triple-S Salud, Inc.",
          "Affinity Health Plan, Inc.",
          "Emory Healthcare",
          "Ameritrade Inc.",
          "Hewlett Packard",
          "Emergency Healthcare Physicians, Ltd.",
          "City and Hackney Teaching Primary Care Trust",
          "US National Guard",
          "Lincoln Medical & Mental Health Center",
          "AT&T",
          "Colorado government",
          "Florida Department of Juvenile Justice",
          "Florida Courts",
          "Crescent Health Inc., Walgreens",
          "Starbucks",
          "UK Home Office",
          "Stanford University",
          "US Dept of Defense",
          "Service Personnel and Veterans Agency (UK)",
          "Morgan Stanley Smith Barney"
         ],
         "legendgroup": "Lost / stolen device or media",
         "marker": {
          "color": "#FFA15A",
          "size": [
           76000000,
           26500000,
           25000000,
           17000000,
           12500000,
           8300000,
           4901432,
           4243434,
           4000000,
           3900000,
           3700000,
           3300000,
           3000000,
           3000000,
           2600000,
           2200000,
           2100000,
           1900000,
           1700000,
           1700000,
           1500000,
           1220000,
           1055489,
           1023209,
           800000,
           800000,
           800000,
           514330,
           400000,
           398000,
           344579,
           315000,
           200000,
           200000,
           180111,
           160000,
           131000,
           130495,
           113000,
           105470,
           100000,
           100000,
           100000,
           97000,
           84000,
           72000,
           72000,
           50500,
           34000
          ],
          "sizemode": "area",
          "sizeref": 380555.55555555556,
          "symbol": "circle"
         },
         "mode": "markers",
         "name": "Lost / stolen device or media",
         "orientation": "v",
         "showlegend": true,
         "type": "scatter",
         "x": [
          "Government",
          "Government",
          "Government",
          "Telecoms",
          "Financial",
          "Healthcare",
          "Government",
          "Healthcare",
          "Healthcare",
          "Financial",
          "Government",
          "Financial",
          "Government",
          "Government",
          "Financial",
          "Academia",
          "Academia",
          "Healthcare",
          "Healthcare",
          "Government",
          "Healthcare",
          "Healthcare",
          "Healthcare",
          "Healthcare",
          "Retail",
          "Healthcare",
          "Government",
          "Healthcare",
          "Healthcare",
          "Healthcare",
          "Healthcare",
          "Healthcare",
          "Financial",
          "Tech",
          "Healthcare",
          "Government",
          "Government",
          "Healthcare",
          "Telecoms",
          "Healthcare",
          "Government",
          "Government",
          "Healthcare",
          "Retail",
          "Government",
          "Academia",
          "Government",
          "Government",
          "Financial"
         ],
         "xaxis": "x",
         "y": [
          "2009",
          "2006",
          "2007",
          "2006",
          "2008",
          "2011",
          "2011",
          "2011",
          "2013",
          "2005",
          "2017",
          "2010",
          "2007",
          "2007",
          "2010",
          "2008",
          "2008",
          "2011",
          "2010",
          "2008",
          "2009",
          "2009",
          "2011",
          "2009",
          "2007",
          "2010",
          "2012",
          "2011",
          "2011",
          "2010",
          "2009",
          "2012",
          "2005",
          "2006",
          "2010",
          "2007",
          "2009",
          "2010",
          "2008",
          "2010",
          "2013",
          "2013",
          "2013",
          "2008",
          "2008",
          "2008",
          "2009",
          "2008",
          "2011"
         ],
         "yaxis": "y"
        }
       ],
       "layout": {
        "legend": {
         "itemsizing": "constant",
         "title": {
          "text": "Method of Leak"
         },
         "tracegroupgap": 0
        },
        "margin": {
         "t": 60
        },
        "template": {
         "data": {
          "bar": [
           {
            "error_x": {
             "color": "#2a3f5f"
            },
            "error_y": {
             "color": "#2a3f5f"
            },
            "marker": {
             "line": {
              "color": "#E5ECF6",
              "width": 0.5
             }
            },
            "type": "bar"
           }
          ],
          "barpolar": [
           {
            "marker": {
             "line": {
              "color": "#E5ECF6",
              "width": 0.5
             }
            },
            "type": "barpolar"
           }
          ],
          "carpet": [
           {
            "aaxis": {
             "endlinecolor": "#2a3f5f",
             "gridcolor": "white",
             "linecolor": "white",
             "minorgridcolor": "white",
             "startlinecolor": "#2a3f5f"
            },
            "baxis": {
             "endlinecolor": "#2a3f5f",
             "gridcolor": "white",
             "linecolor": "white",
             "minorgridcolor": "white",
             "startlinecolor": "#2a3f5f"
            },
            "type": "carpet"
           }
          ],
          "choropleth": [
           {
            "colorbar": {
             "outlinewidth": 0,
             "ticks": ""
            },
            "type": "choropleth"
           }
          ],
          "contour": [
           {
            "colorbar": {
             "outlinewidth": 0,
             "ticks": ""
            },
            "colorscale": [
             [
              0,
              "#0d0887"
             ],
             [
              0.1111111111111111,
              "#46039f"
             ],
             [
              0.2222222222222222,
              "#7201a8"
             ],
             [
              0.3333333333333333,
              "#9c179e"
             ],
             [
              0.4444444444444444,
              "#bd3786"
             ],
             [
              0.5555555555555556,
              "#d8576b"
             ],
             [
              0.6666666666666666,
              "#ed7953"
             ],
             [
              0.7777777777777778,
              "#fb9f3a"
             ],
             [
              0.8888888888888888,
              "#fdca26"
             ],
             [
              1,
              "#f0f921"
             ]
            ],
            "type": "contour"
           }
          ],
          "contourcarpet": [
           {
            "colorbar": {
             "outlinewidth": 0,
             "ticks": ""
            },
            "type": "contourcarpet"
           }
          ],
          "heatmap": [
           {
            "colorbar": {
             "outlinewidth": 0,
             "ticks": ""
            },
            "colorscale": [
             [
              0,
              "#0d0887"
             ],
             [
              0.1111111111111111,
              "#46039f"
             ],
             [
              0.2222222222222222,
              "#7201a8"
             ],
             [
              0.3333333333333333,
              "#9c179e"
             ],
             [
              0.4444444444444444,
              "#bd3786"
             ],
             [
              0.5555555555555556,
              "#d8576b"
             ],
             [
              0.6666666666666666,
              "#ed7953"
             ],
             [
              0.7777777777777778,
              "#fb9f3a"
             ],
             [
              0.8888888888888888,
              "#fdca26"
             ],
             [
              1,
              "#f0f921"
             ]
            ],
            "type": "heatmap"
           }
          ],
          "heatmapgl": [
           {
            "colorbar": {
             "outlinewidth": 0,
             "ticks": ""
            },
            "colorscale": [
             [
              0,
              "#0d0887"
             ],
             [
              0.1111111111111111,
              "#46039f"
             ],
             [
              0.2222222222222222,
              "#7201a8"
             ],
             [
              0.3333333333333333,
              "#9c179e"
             ],
             [
              0.4444444444444444,
              "#bd3786"
             ],
             [
              0.5555555555555556,
              "#d8576b"
             ],
             [
              0.6666666666666666,
              "#ed7953"
             ],
             [
              0.7777777777777778,
              "#fb9f3a"
             ],
             [
              0.8888888888888888,
              "#fdca26"
             ],
             [
              1,
              "#f0f921"
             ]
            ],
            "type": "heatmapgl"
           }
          ],
          "histogram": [
           {
            "marker": {
             "colorbar": {
              "outlinewidth": 0,
              "ticks": ""
             }
            },
            "type": "histogram"
           }
          ],
          "histogram2d": [
           {
            "colorbar": {
             "outlinewidth": 0,
             "ticks": ""
            },
            "colorscale": [
             [
              0,
              "#0d0887"
             ],
             [
              0.1111111111111111,
              "#46039f"
             ],
             [
              0.2222222222222222,
              "#7201a8"
             ],
             [
              0.3333333333333333,
              "#9c179e"
             ],
             [
              0.4444444444444444,
              "#bd3786"
             ],
             [
              0.5555555555555556,
              "#d8576b"
             ],
             [
              0.6666666666666666,
              "#ed7953"
             ],
             [
              0.7777777777777778,
              "#fb9f3a"
             ],
             [
              0.8888888888888888,
              "#fdca26"
             ],
             [
              1,
              "#f0f921"
             ]
            ],
            "type": "histogram2d"
           }
          ],
          "histogram2dcontour": [
           {
            "colorbar": {
             "outlinewidth": 0,
             "ticks": ""
            },
            "colorscale": [
             [
              0,
              "#0d0887"
             ],
             [
              0.1111111111111111,
              "#46039f"
             ],
             [
              0.2222222222222222,
              "#7201a8"
             ],
             [
              0.3333333333333333,
              "#9c179e"
             ],
             [
              0.4444444444444444,
              "#bd3786"
             ],
             [
              0.5555555555555556,
              "#d8576b"
             ],
             [
              0.6666666666666666,
              "#ed7953"
             ],
             [
              0.7777777777777778,
              "#fb9f3a"
             ],
             [
              0.8888888888888888,
              "#fdca26"
             ],
             [
              1,
              "#f0f921"
             ]
            ],
            "type": "histogram2dcontour"
           }
          ],
          "mesh3d": [
           {
            "colorbar": {
             "outlinewidth": 0,
             "ticks": ""
            },
            "type": "mesh3d"
           }
          ],
          "parcoords": [
           {
            "line": {
             "colorbar": {
              "outlinewidth": 0,
              "ticks": ""
             }
            },
            "type": "parcoords"
           }
          ],
          "pie": [
           {
            "automargin": true,
            "type": "pie"
           }
          ],
          "scatter": [
           {
            "marker": {
             "colorbar": {
              "outlinewidth": 0,
              "ticks": ""
             }
            },
            "type": "scatter"
           }
          ],
          "scatter3d": [
           {
            "line": {
             "colorbar": {
              "outlinewidth": 0,
              "ticks": ""
             }
            },
            "marker": {
             "colorbar": {
              "outlinewidth": 0,
              "ticks": ""
             }
            },
            "type": "scatter3d"
           }
          ],
          "scattercarpet": [
           {
            "marker": {
             "colorbar": {
              "outlinewidth": 0,
              "ticks": ""
             }
            },
            "type": "scattercarpet"
           }
          ],
          "scattergeo": [
           {
            "marker": {
             "colorbar": {
              "outlinewidth": 0,
              "ticks": ""
             }
            },
            "type": "scattergeo"
           }
          ],
          "scattergl": [
           {
            "marker": {
             "colorbar": {
              "outlinewidth": 0,
              "ticks": ""
             }
            },
            "type": "scattergl"
           }
          ],
          "scattermapbox": [
           {
            "marker": {
             "colorbar": {
              "outlinewidth": 0,
              "ticks": ""
             }
            },
            "type": "scattermapbox"
           }
          ],
          "scatterpolar": [
           {
            "marker": {
             "colorbar": {
              "outlinewidth": 0,
              "ticks": ""
             }
            },
            "type": "scatterpolar"
           }
          ],
          "scatterpolargl": [
           {
            "marker": {
             "colorbar": {
              "outlinewidth": 0,
              "ticks": ""
             }
            },
            "type": "scatterpolargl"
           }
          ],
          "scatterternary": [
           {
            "marker": {
             "colorbar": {
              "outlinewidth": 0,
              "ticks": ""
             }
            },
            "type": "scatterternary"
           }
          ],
          "surface": [
           {
            "colorbar": {
             "outlinewidth": 0,
             "ticks": ""
            },
            "colorscale": [
             [
              0,
              "#0d0887"
             ],
             [
              0.1111111111111111,
              "#46039f"
             ],
             [
              0.2222222222222222,
              "#7201a8"
             ],
             [
              0.3333333333333333,
              "#9c179e"
             ],
             [
              0.4444444444444444,
              "#bd3786"
             ],
             [
              0.5555555555555556,
              "#d8576b"
             ],
             [
              0.6666666666666666,
              "#ed7953"
             ],
             [
              0.7777777777777778,
              "#fb9f3a"
             ],
             [
              0.8888888888888888,
              "#fdca26"
             ],
             [
              1,
              "#f0f921"
             ]
            ],
            "type": "surface"
           }
          ],
          "table": [
           {
            "cells": {
             "fill": {
              "color": "#EBF0F8"
             },
             "line": {
              "color": "white"
             }
            },
            "header": {
             "fill": {
              "color": "#C8D4E3"
             },
             "line": {
              "color": "white"
             }
            },
            "type": "table"
           }
          ]
         },
         "layout": {
          "annotationdefaults": {
           "arrowcolor": "#2a3f5f",
           "arrowhead": 0,
           "arrowwidth": 1
          },
          "coloraxis": {
           "colorbar": {
            "outlinewidth": 0,
            "ticks": ""
           }
          },
          "colorscale": {
           "diverging": [
            [
             0,
             "#8e0152"
            ],
            [
             0.1,
             "#c51b7d"
            ],
            [
             0.2,
             "#de77ae"
            ],
            [
             0.3,
             "#f1b6da"
            ],
            [
             0.4,
             "#fde0ef"
            ],
            [
             0.5,
             "#f7f7f7"
            ],
            [
             0.6,
             "#e6f5d0"
            ],
            [
             0.7,
             "#b8e186"
            ],
            [
             0.8,
             "#7fbc41"
            ],
            [
             0.9,
             "#4d9221"
            ],
            [
             1,
             "#276419"
            ]
           ],
           "sequential": [
            [
             0,
             "#0d0887"
            ],
            [
             0.1111111111111111,
             "#46039f"
            ],
            [
             0.2222222222222222,
             "#7201a8"
            ],
            [
             0.3333333333333333,
             "#9c179e"
            ],
            [
             0.4444444444444444,
             "#bd3786"
            ],
            [
             0.5555555555555556,
             "#d8576b"
            ],
            [
             0.6666666666666666,
             "#ed7953"
            ],
            [
             0.7777777777777778,
             "#fb9f3a"
            ],
            [
             0.8888888888888888,
             "#fdca26"
            ],
            [
             1,
             "#f0f921"
            ]
           ],
           "sequentialminus": [
            [
             0,
             "#0d0887"
            ],
            [
             0.1111111111111111,
             "#46039f"
            ],
            [
             0.2222222222222222,
             "#7201a8"
            ],
            [
             0.3333333333333333,
             "#9c179e"
            ],
            [
             0.4444444444444444,
             "#bd3786"
            ],
            [
             0.5555555555555556,
             "#d8576b"
            ],
            [
             0.6666666666666666,
             "#ed7953"
            ],
            [
             0.7777777777777778,
             "#fb9f3a"
            ],
            [
             0.8888888888888888,
             "#fdca26"
            ],
            [
             1,
             "#f0f921"
            ]
           ]
          },
          "colorway": [
           "#636efa",
           "#EF553B",
           "#00cc96",
           "#ab63fa",
           "#FFA15A",
           "#19d3f3",
           "#FF6692",
           "#B6E880",
           "#FF97FF",
           "#FECB52"
          ],
          "font": {
           "color": "#2a3f5f"
          },
          "geo": {
           "bgcolor": "white",
           "lakecolor": "white",
           "landcolor": "#E5ECF6",
           "showlakes": true,
           "showland": true,
           "subunitcolor": "white"
          },
          "hoverlabel": {
           "align": "left"
          },
          "hovermode": "closest",
          "mapbox": {
           "style": "light"
          },
          "paper_bgcolor": "white",
          "plot_bgcolor": "#E5ECF6",
          "polar": {
           "angularaxis": {
            "gridcolor": "white",
            "linecolor": "white",
            "ticks": ""
           },
           "bgcolor": "#E5ECF6",
           "radialaxis": {
            "gridcolor": "white",
            "linecolor": "white",
            "ticks": ""
           }
          },
          "scene": {
           "xaxis": {
            "backgroundcolor": "#E5ECF6",
            "gridcolor": "white",
            "gridwidth": 2,
            "linecolor": "white",
            "showbackground": true,
            "ticks": "",
            "zerolinecolor": "white"
           },
           "yaxis": {
            "backgroundcolor": "#E5ECF6",
            "gridcolor": "white",
            "gridwidth": 2,
            "linecolor": "white",
            "showbackground": true,
            "ticks": "",
            "zerolinecolor": "white"
           },
           "zaxis": {
            "backgroundcolor": "#E5ECF6",
            "gridcolor": "white",
            "gridwidth": 2,
            "linecolor": "white",
            "showbackground": true,
            "ticks": "",
            "zerolinecolor": "white"
           }
          },
          "shapedefaults": {
           "line": {
            "color": "#2a3f5f"
           }
          },
          "ternary": {
           "aaxis": {
            "gridcolor": "white",
            "linecolor": "white",
            "ticks": ""
           },
           "baxis": {
            "gridcolor": "white",
            "linecolor": "white",
            "ticks": ""
           },
           "bgcolor": "#E5ECF6",
           "caxis": {
            "gridcolor": "white",
            "linecolor": "white",
            "ticks": ""
           }
          },
          "title": {
           "x": 0.05
          },
          "xaxis": {
           "automargin": true,
           "gridcolor": "white",
           "linecolor": "white",
           "ticks": "",
           "title": {
            "standoff": 15
           },
           "zerolinecolor": "white",
           "zerolinewidth": 2
          },
          "yaxis": {
           "automargin": true,
           "gridcolor": "white",
           "linecolor": "white",
           "ticks": "",
           "title": {
            "standoff": 15
           },
           "zerolinecolor": "white",
           "zerolinewidth": 2
          }
         }
        },
        "xaxis": {
         "anchor": "y",
         "domain": [
          0,
          1
         ],
         "title": {
          "text": "Sector"
         }
        },
        "yaxis": {
         "anchor": "x",
         "domain": [
          0,
          1
         ],
         "title": {
          "text": "Year"
         }
        }
       }
      },
      "text/html": [
       "<div>                            <div id=\"ca5c60ff-49bf-47ae-bd55-9d529f844835\" class=\"plotly-graph-div\" style=\"height:525px; width:100%;\"></div>            <script type=\"text/javascript\">                require([\"plotly\"], function(Plotly) {                    window.PLOTLYENV=window.PLOTLYENV || {};                                    if (document.getElementById(\"ca5c60ff-49bf-47ae-bd55-9d529f844835\")) {                    Plotly.newPlot(                        \"ca5c60ff-49bf-47ae-bd55-9d529f844835\",                        [{\"hovertemplate\": \"<b>%{hovertext}</b><br><br>Method of Leak=Accidentally published<br>Sector=%{x}<br>Year=%{y}<br>Records Lost_normalized=%{marker.size}<extra></extra>\", \"hovertext\": [\"River City Media\", \"AOL\", \"Apple*\", \"Office of the Texas Attorney General\", \"Facebook\", \"Privatization Agency of the Republic of Serbia\", \"Norwegian Tax Authorities\", \"State of Texas\", \"CEX\", \"Jefferson County\", \"NMBS\", \"Red Cross Blood Service\", \"Australian Immigration Department\", \"TerraCom & YourTel\", \"Citigroup\", \"US Army\", \"Yale University\"], \"legendgroup\": \"Accidentally published\", \"marker\": {\"color\": \"#636efa\", \"size\": [1370000000, 20000000, 12367232, 6500000, 6000000, 5190396, 3950000, 3500000, 2000000, 1600000, 1460000, 550000, 500000, 170000, 150000, 50000, 43000], \"sizemode\": \"area\", \"sizeref\": 380555.55555555556, \"symbol\": \"circle\"}, \"mode\": \"markers\", \"name\": \"Accidentally published\", \"orientation\": \"v\", \"showlegend\": true, \"type\": \"scatter\", \"x\": [\"Web\", \"Web\", \"Tech\", \"Government\", \"Web\", \"Government\", \"Government\", \"Government\", \"Retail\", \"Government\", \"Transport\", \"Healthcare\", \"Government\", \"Telecoms\", \"Financial\", \"Government\", \"Academia\"], \"xaxis\": \"x\", \"y\": [\"2017\", \"2006\", \"2012\", \"2012\", \"2013\", \"2014\", \"2008\", \"2011\", \"2017\", \"2008\", \"2013\", \"2016\", \"2015\", \"2013\", \"2013\", \"2011\", \"2010\"], \"yaxis\": \"y\"}, {\"hovertemplate\": \"<b>%{hovertext}</b><br><br>Method of Leak=Poor security<br>Sector=%{x}<br>Year=%{y}<br>Records Lost_normalized=%{marker.size}<extra></extra>\", \"hovertext\": [\"Unique Identification Authority of India\", \"Spambot\", \"Deep Root Analytics\", \"Al.type\", \"Sanrio\", \"Swedish Transport Agency\", \"World Check\", \"Waterly\", \"SVR Tracking\", \"RootsWeb\", \"Accendo Insurance Co.\", \"Indiana University\", \"Automatic Data Processing\", \"Memorial Healthcare System\", \"Mozilla\", \"New York Taxis\", \"Uber\"], \"legendgroup\": \"Poor security\", \"marker\": {\"color\": \"#EF553B\", \"size\": [1000000000, 711000000, 198000000, 31293959, 3300000, 3000000, 2200000, 1000000, 540000, 300000, 175350, 146000, 125000, 115143, 76000, 52000, 50000], \"sizemode\": \"area\", \"sizeref\": 380555.55555555556, \"symbol\": \"circle\"}, \"mode\": \"markers\", \"name\": \"Poor security\", \"orientation\": \"v\", \"showlegend\": true, \"type\": \"scatter\", \"x\": [\"Government\", \"Web\", \"Web\", \"App\", \"Web\", \"Government\", \"Media\", \"App\", \"App\", \"Web\", \"Healthcare\", \"Academia\", \"Financial\", \"Healthcare\", \"Web\", \"Transport\", \"App\"], \"xaxis\": \"x\", \"y\": [\"2017\", \"2017\", \"2015\", \"2017\", \"2015\", \"2015\", \"2016\", \"2017\", \"2017\", \"2015\", \"2011\", \"2013\", \"2005\", \"2011\", \"2014\", \"2014\", \"2015\"], \"yaxis\": \"y\"}, {\"hovertemplate\": \"<b>%{hovertext}</b><br><br>Method of Leak=Hacked<br>Sector=%{x}<br>Year=%{y}<br>Records Lost_normalized=%{marker.size}<extra></extra>\", \"hovertext\": [\"Yahoo\", \"Yahoo\", \"Friend Finder Network\", \"MySpace\", \"Massive American business hack\", \"Ebay\", \"Equifax\", \"Heartland\", \"LinkedIn\", \"VK\", \"TK / TJ Maxx\", \"Dailymotion\", \"Anthem\", \"Sony PSN\", \"JP Morgan Chase\", \"Target\", \"Securus Technologies\", \"Dropbox\", \"Tumblr\", \"UbiSoft\", \"Uber\", \"Home Depot\", \"Philippines\\u2019 Commission on Elections\", \"Living Social\", \"Evernote\", \"Turkish citizenship database\", \"Malaysian telcos & MVNOs\", \"Last.fm\", \"Weebly\", \"Cardsystems Solutions Inc.\", \"Fling\", \"AshleyMadison.com\", \"Adobe\", \"Steam\", \"Yahoo\", \"RockYou!\", \"Tianya\", \"Mail. ru\", \"Sony Online Entertainment\", \"Zappos\", \"Yahoo Japan\", \"US Office of Personnel Management (2nd Breach)\", \"Auction.co.kr\", \"Disqus\", \"Zomato\", \"Telegram\", \"Experian / T-mobile\", \"Blizzard\", \"Nexon Korea Corp\", \"Kromtech\", \"Mossack Fonseca\", \"Premera\", \"Twitch.tv\", \"Interpark\", \"Sony Pictures\", \"178.com\", \"Lynda.com\", \"Greek government\", \"KT Corp.\", \"Virginia Dept. Of Health\", \"LinkedIn, eHarmony, Last.fm\", \"Gamigo\", \"Global Payments\", \"Minecraft\", \"ClixSense\", \"VTech\", \"TD Ameritrade\", \"China Software Developer Network\", \"Chile Ministry Of Education\", \"Instagram\", \"CheckFree Corporation\", \"Clinton campaign\", \"Data Processors International\", \"Gmail*\", \"SnapChat\", \"Community Health Systems\", \"Hannaford Brothers Supermarket Chain\", \"KDDI\", \"ssndob.ms\", \"European Central Bank\", \"UPS\", \"US Office of Personnel Management\", \"Adult Friend Finder\", \"Banner Health\", \"South Carolina State Dept. of Revenue\", \"Epsilon\", \"Three Iranian banks\", \"Viacom\", \"Cellebrite\", \"CarPhone Warehouse\", \"HSBC Turkey\", \"AOL\", \"Betfair\", \"Linux Ubuntu forums\", \"Ubuntu\", \"Bell\", \"Snapchat\", \"Imgur\", \"Monster.com\", \"TIO Networks\", \"Gawker.com\", \"RBS Worldpay\", \"KM.ru\", \"Nival\", \"Sega\", \"Washington Post\", \"Staples\", \"Neiman Marcus\", \"Carefirst\", \"Oregon Department of Motor Vehicles\", \"Sony Pictures\", \"Drupal\", \"D&B, Altegrity\", \"Stratfor\", \"MacRumours.com\", \"Brazzers\", \"Medicaid\", \"Ohio State University\", \"Japan Airlines\", \"DaFont\", \"Dominios Pizzas (France)\", \"Network Solutions\", \"Virginia Prescription Monitoring Program\", \"Puerto Rico Department of Health\", \"NASDAQ\", \"Slack\", \"Hacking Team\", \"British Airways\", \"OVH\", \"Scribd\", \"Yahoo Voices\", \"Formspring\", \"MSpy\", \"US Federal Reserve Bank of Cleveland\", \"Citigroup\", \"PayAsUGym\", \"Southern California Medical-Legal Consultants\", \"Honda Canada\", \"Apple\", \"Syrian government\", \"Wonga\", \"Twitter\", \"Nintendo\", \"Seacoast Radiology, PA\", \"Massachusetts Government\", \"Three\", \"Restaurant Depot\", \"Bethesda Game Studios\", \"San Francisco Public Utilities Commission\", \"Militarysingles.com\", \"Washington State court system\", \"University of California Berkeley\", \"TalkTalk\", \"Ankle & foot Center of Tampa Bay, Inc.\", \"Kirkwood Community College\", \"US Law Enforcement\", \"AT&T\", \"Central Hudson Gas & Electric\", \"IRS\", \"Malaysian medical practitioners\", \"University of Wisconsin - Milwaukee\", \"Writerspace.com\", \"OnePlus\", \"Invest Bank\", \"uTorrent\", \"Quest Diagnostics\", \"Dropbox\", \"Wendy's\"], \"legendgroup\": \"Hacked\", \"marker\": {\"color\": \"#00cc96\", \"size\": [1000000000, 500000000, 412000000, 164000000, 160000000, 145000000, 143000000, 130000000, 117000000, 100544934, 94000000, 85200000, 80000000, 77000000, 76000000, 70000000, 70000000, 68700000, 65000000, 58000000, 57000000, 56000000, 55000000, 50000000, 50000000, 49611709, 46200000, 43500000, 43000000, 40000000, 40000000, 37000000, 36000000, 35000000, 32000000, 32000000, 28000000, 25000000, 24600000, 24000000, 22000000, 21500000, 18000000, 17500000, 17000000, 15000000, 15000000, 14000000, 13200000, 13000000, 11500000, 11000000, 10000000, 10000000, 10000000, 10000000, 9500000, 9000000, 8700000, 8257378, 8000000, 8000000, 7000000, 7000000, 6600000, 6400000, 6300000, 6000000, 6000000, 6000000, 5000000, 5000000, 5000000, 5000000, 4700000, 4500000, 4200000, 4000000, 4000000, 4000000, 4000000, 4000000, 3900000, 3700000, 3600000, 3000000, 3000000, 3000000, 3000000, 2700000, 2700000, 2400000, 2300000, 2000000, 2000000, 1900000, 1700000, 1700000, 1600000, 1600000, 1500000, 1500000, 1500000, 1500000, 1290755, 1270000, 1160000, 1100000, 1100000, 1000000, 1000000, 1000000, 1000000, 935000, 860000, 790724, 780000, 760000, 750000, 700000, 600000, 573000, 531400, 515000, 500000, 500000, 500000, 500000, 500000, 500000, 450000, 420000, 400000, 400000, 360083, 300000, 300000, 283000, 275000, 274477, 270000, 250000, 240000, 231400, 210000, 200000, 200000, 200000, 180000, 163792, 160000, 160000, 157000, 156000, 125000, 123461, 114000, 110000, 100000, 81309, 73000, 62000, 40000, 40000, 35000, 34000, 30000, 1025], \"sizemode\": \"area\", \"sizeref\": 380555.55555555556, \"symbol\": \"circle\"}, \"mode\": \"markers\", \"name\": \"Hacked\", \"orientation\": \"v\", \"showlegend\": true, \"type\": \"scatter\", \"x\": [\"Web\", \"Web\", \"Web\", \"Web\", \"Financial\", \"Web\", \"Financial\", \"Financial\", \"Web\", \"Web\", \"Retail\", \"Web\", \"Healthcare\", \"Gaming\", \"Financial\", \"Retail\", \"Web\", \"Web\", \"Web\", \"Gaming\", \"App\", \"Retail\", \"Government\", \"Web\", \"Web\", \"Government\", \"Telecoms\", \"Web\", \"Web\", \"Financial\", \"Web\", \"Web\", \"Tech\", \"Web\", \"Web\", \"Gaming\", \"Web\", \"Web\", \"Gaming\", \"Web\", \"Web\", \"Government\", \"Web\", \"Web\", \"Web\", \"Tech\", \"Web\", \"Gaming\", \"Web\", \"Web\", \"Legal\", \"Healthcare\", \"Gaming\", \"Web\", \"Media\", \"Web\", \"Web\", \"Government\", \"Telecoms\", \"Government\", \"Web\", \"Web\", \"Financial\", \"Web\", \"Web\", \"Web\", \"Financial\", \"Web\", \"Government\", \"Web\", \"Financial\", \"Government\", \"Financial\", \"Web\", \"Web\", \"Healthcare\", \"Retail\", \"Telecoms\", \"Web\", \"Financial\", \"Retail\", \"Government\", \"Web\", \"Healthcare\", \"Government\", \"Web\", \"Financial\", \"Web\", \"Tech\", \"Web\", \"Financial\", \"Web\", \"Web\", \"Web\", \"Tech\", \"Telecoms\", \"App\", \"App\", \"Web\", \"Financial\", \"Web\", \"Financial\", \"Web\", \"Web\", \"Gaming\", \"Media\", \"Retail\", \"Retail\", \"Healthcare\", \"Government\", \"Web\", \"Web\", \"Tech\", \"Military\", \"Web\", \"Web\", \"Government\", \"Academia\", \"Transport\", \"Web\", \"Web\", \"Tech\", \"Healthcare\", \"Healthcare\", \"Financial\", \"Tech\", \"Web\", \"Retail\", \"Web\", \"Web\", \"Web\", \"Web\", \"Tech\", \"Financial\", \"Financial\", \"Web\", \"Healthcare\", \"Retail\", \"Tech\", \"Government\", \"Financial\", \"Web\", \"Gaming\", \"Healthcare\", \"Government\", \"Telecoms\", \"Retail\", \"Gaming\", \"Government\", \"Web\", \"Government\", \"Academia\", \"Web\", \"Healthcare\", \"Academia\", \"Government\", \"Telecoms\", \"Energy\", \"Government\", \"Healthcare\", \"Academia\", \"Web\", \"Telecoms\", \"Financial\", \"Web\", \"Healthcare\", \"Web\", \"Retail\"], \"xaxis\": \"x\", \"y\": [\"2013\", \"2014\", \"2016\", \"2016\", \"2012\", \"2014\", \"2017\", \"2009\", \"2012\", \"2016\", \"2007\", \"2016\", \"2015\", \"2011\", \"2014\", \"2014\", \"2015\", \"2012\", \"2013\", \"2013\", \"2016\", \"2014\", \"2016\", \"2013\", \"2013\", \"2016\", \"2014\", \"2012\", \"2016\", \"2005\", \"2016\", \"2015\", \"2013\", \"2011\", \"2016\", \"2009\", \"2011\", \"2016\", \"2011\", \"2012\", \"2013\", \"2015\", \"2008\", \"2012\", \"2017\", \"2016\", \"2015\", \"2012\", \"2011\", \"2015\", \"2016\", \"2014\", \"2014\", \"2016\", \"2014\", \"2011\", \"2016\", \"2012\", \"2012\", \"2009\", \"2012\", \"2012\", \"2012\", \"2016\", \"2016\", \"2015\", \"2007\", \"2011\", \"2008\", \"2017\", \"2009\", \"2016\", \"2008\", \"2014\", \"2013\", \"2014\", \"2007\", \"2006\", \"2013\", \"2014\", \"2014\", \"2015\", \"2015\", \"2016\", \"2012\", \"2011\", \"2012\", \"2017\", \"2017\", \"2015\", \"2014\", \"2014\", \"2010\", \"2016\", \"2013\", \"2017\", \"2016\", \"2014\", \"2007\", \"2017\", \"2010\", \"2008\", \"2016\", \"2016\", \"2011\", \"2011\", \"2014\", \"2014\", \"2015\", \"2011\", \"2011\", \"2013\", \"2014\", \"2011\", \"2014\", \"2016\", \"2012\", \"2010\", \"2014\", \"2017\", \"2014\", \"2009\", \"2009\", \"2010\", \"2014\", \"2015\", \"2015\", \"2015\", \"2013\", \"2013\", \"2012\", \"2012\", \"2015\", \"2010\", \"2011\", \"2016\", \"2011\", \"2011\", \"2013\", \"2016\", \"2017\", \"2013\", \"2013\", \"2010\", \"2011\", \"2016\", \"2011\", \"2011\", \"2011\", \"2012\", \"2013\", \"2009\", \"2015\", \"2010\", \"2013\", \"2011\", \"2010\", \"2013\", \"2015\", \"2015\", \"2011\", \"2011\", \"2017\", \"2015\", \"2016\", \"2016\", \"2012\", \"2016\"], \"yaxis\": \"y\"}, {\"hovertemplate\": \"<b>%{hovertext}</b><br><br>Method of Leak=Inside job<br>Sector=%{x}<br>Year=%{y}<br>Records Lost_normalized=%{marker.size}<extra></extra>\", \"hovertext\": [\"Court Ventures\", \"AOL\", \"Korea Credit Bureau\", \"GS Caltex\", \"Dai Nippon Printing\", \"Fidelity National Information Services\", \"Countrywide Financial Corp\", \"Countrywide Financial Corp\", \"Vodafone\", \"New York State Electric & Gas\", \"Kissinger Cables\", \"National Security Agency\", \"Compass Bank\", \"Classified Iraq War documents\", \"US Military\", \"Embassy Cables\", \"South Carolina Government\", \"Mutuelle Generale de la Police\", \"Texas Lottery\"], \"legendgroup\": \"Inside job\", \"marker\": {\"color\": \"#ab63fa\", \"size\": [200000000, 92000000, 20000000, 11100000, 8637405, 8500000, 2600000, 2500000, 2000000, 1800000, 1700000, 1500000, 1000000, 392000, 260000, 251000, 228000, 112000, 89000], \"sizemode\": \"area\", \"sizeref\": 380555.55555555556, \"symbol\": \"circle\"}, \"mode\": \"markers\", \"name\": \"Inside job\", \"orientation\": \"v\", \"showlegend\": true, \"type\": \"scatter\", \"x\": [\"Financial\", \"Web\", \"Financial\", \"Energy\", \"Retail\", \"Financial\", \"Financial\", \"Financial\", \"Telecoms\", \"Energy\", \"Government\", \"Government\", \"Financial\", \"Government\", \"Government\", \"Government\", \"Healthcare\", \"Healthcare\", \"Government\"], \"xaxis\": \"x\", \"y\": [\"2012\", \"2004\", \"2014\", \"2008\", \"2007\", \"2007\", \"2006\", \"2008\", \"2013\", \"2012\", \"2013\", \"2013\", \"2007\", \"2010\", \"2010\", \"2010\", \"2012\", \"2016\", \"2007\"], \"yaxis\": \"y\"}, {\"hovertemplate\": \"<b>%{hovertext}</b><br><br>Method of Leak=Lost / stolen device or media<br>Sector=%{x}<br>Year=%{y}<br>Records Lost_normalized=%{marker.size}<extra></extra>\", \"hovertext\": [\"US Military\", \"US Dept of Vet Affairs\", \"UK Revenue & Customs\", \"T-Mobile, Deutsche Telecom\", \"BNY Mellon Shareowner Services\", \"NHS\", \"Tricare\", \"Sutter Medical Foundation\", \"Advocate Medical Group\", \"Citigroup\", \"Hong Kong Registration & Electoral Office\", \"Educational Credit Management Corp\", \"Driving Standards Agency\", \"Driving Standards Agency\", \"JP Morgan Chase\", \"University of Utah Hospitals & Clinics\", \"University of Miami\", \"Health Net - IBM\", \"New York City Health & Hospitals Corp.\", \"UK Ministry of Defence\", \"Health Net\", \"AvMed, Inc.\", \"Nemours Foundation\", \"Blue Cross Blue Shield of Tennessee\", \"Gap Inc\", \"South Shore Hospital, Massachusetts\", \"California Department of Child Support Services\", \"Eisenhower Medical Center\", \"Spartanburg Regional Healthcare System\", \"Triple-S Salud, Inc.\", \"Affinity Health Plan, Inc.\", \"Emory Healthcare\", \"Ameritrade Inc.\", \"Hewlett Packard\", \"Emergency Healthcare Physicians, Ltd.\", \"City and Hackney Teaching Primary Care Trust\", \"US National Guard\", \"Lincoln Medical & Mental Health Center\", \"AT&T\", \"Colorado government\", \"Florida Department of Juvenile Justice\", \"Florida Courts\", \"Crescent Health Inc., Walgreens\", \"Starbucks\", \"UK Home Office\", \"Stanford University\", \"US Dept of Defense\", \"Service Personnel and Veterans Agency (UK)\", \"Morgan Stanley Smith Barney\"], \"legendgroup\": \"Lost / stolen device or media\", \"marker\": {\"color\": \"#FFA15A\", \"size\": [76000000, 26500000, 25000000, 17000000, 12500000, 8300000, 4901432, 4243434, 4000000, 3900000, 3700000, 3300000, 3000000, 3000000, 2600000, 2200000, 2100000, 1900000, 1700000, 1700000, 1500000, 1220000, 1055489, 1023209, 800000, 800000, 800000, 514330, 400000, 398000, 344579, 315000, 200000, 200000, 180111, 160000, 131000, 130495, 113000, 105470, 100000, 100000, 100000, 97000, 84000, 72000, 72000, 50500, 34000], \"sizemode\": \"area\", \"sizeref\": 380555.55555555556, \"symbol\": \"circle\"}, \"mode\": \"markers\", \"name\": \"Lost / stolen device or media\", \"orientation\": \"v\", \"showlegend\": true, \"type\": \"scatter\", \"x\": [\"Government\", \"Government\", \"Government\", \"Telecoms\", \"Financial\", \"Healthcare\", \"Government\", \"Healthcare\", \"Healthcare\", \"Financial\", \"Government\", \"Financial\", \"Government\", \"Government\", \"Financial\", \"Academia\", \"Academia\", \"Healthcare\", \"Healthcare\", \"Government\", \"Healthcare\", \"Healthcare\", \"Healthcare\", \"Healthcare\", \"Retail\", \"Healthcare\", \"Government\", \"Healthcare\", \"Healthcare\", \"Healthcare\", \"Healthcare\", \"Healthcare\", \"Financial\", \"Tech\", \"Healthcare\", \"Government\", \"Government\", \"Healthcare\", \"Telecoms\", \"Healthcare\", \"Government\", \"Government\", \"Healthcare\", \"Retail\", \"Government\", \"Academia\", \"Government\", \"Government\", \"Financial\"], \"xaxis\": \"x\", \"y\": [\"2009\", \"2006\", \"2007\", \"2006\", \"2008\", \"2011\", \"2011\", \"2011\", \"2013\", \"2005\", \"2017\", \"2010\", \"2007\", \"2007\", \"2010\", \"2008\", \"2008\", \"2011\", \"2010\", \"2008\", \"2009\", \"2009\", \"2011\", \"2009\", \"2007\", \"2010\", \"2012\", \"2011\", \"2011\", \"2010\", \"2009\", \"2012\", \"2005\", \"2006\", \"2010\", \"2007\", \"2009\", \"2010\", \"2008\", \"2010\", \"2013\", \"2013\", \"2013\", \"2008\", \"2008\", \"2008\", \"2009\", \"2008\", \"2011\"], \"yaxis\": \"y\"}],                        {\"legend\": {\"itemsizing\": \"constant\", \"title\": {\"text\": \"Method of Leak\"}, \"tracegroupgap\": 0}, \"margin\": {\"t\": 60}, \"template\": {\"data\": {\"bar\": [{\"error_x\": {\"color\": \"#2a3f5f\"}, \"error_y\": {\"color\": \"#2a3f5f\"}, \"marker\": {\"line\": {\"color\": \"#E5ECF6\", \"width\": 0.5}}, \"type\": \"bar\"}], \"barpolar\": [{\"marker\": {\"line\": {\"color\": \"#E5ECF6\", \"width\": 0.5}}, \"type\": \"barpolar\"}], \"carpet\": [{\"aaxis\": {\"endlinecolor\": \"#2a3f5f\", \"gridcolor\": \"white\", \"linecolor\": \"white\", \"minorgridcolor\": \"white\", \"startlinecolor\": \"#2a3f5f\"}, \"baxis\": {\"endlinecolor\": \"#2a3f5f\", \"gridcolor\": \"white\", \"linecolor\": \"white\", \"minorgridcolor\": \"white\", \"startlinecolor\": \"#2a3f5f\"}, \"type\": \"carpet\"}], \"choropleth\": [{\"colorbar\": {\"outlinewidth\": 0, \"ticks\": \"\"}, \"type\": \"choropleth\"}], \"contour\": [{\"colorbar\": {\"outlinewidth\": 0, \"ticks\": \"\"}, \"colorscale\": [[0.0, \"#0d0887\"], [0.1111111111111111, \"#46039f\"], [0.2222222222222222, \"#7201a8\"], [0.3333333333333333, \"#9c179e\"], [0.4444444444444444, \"#bd3786\"], [0.5555555555555556, \"#d8576b\"], [0.6666666666666666, \"#ed7953\"], [0.7777777777777778, \"#fb9f3a\"], [0.8888888888888888, \"#fdca26\"], [1.0, \"#f0f921\"]], \"type\": \"contour\"}], \"contourcarpet\": [{\"colorbar\": {\"outlinewidth\": 0, \"ticks\": \"\"}, \"type\": \"contourcarpet\"}], \"heatmap\": [{\"colorbar\": {\"outlinewidth\": 0, \"ticks\": \"\"}, \"colorscale\": [[0.0, \"#0d0887\"], [0.1111111111111111, \"#46039f\"], [0.2222222222222222, \"#7201a8\"], [0.3333333333333333, \"#9c179e\"], [0.4444444444444444, \"#bd3786\"], [0.5555555555555556, \"#d8576b\"], [0.6666666666666666, \"#ed7953\"], [0.7777777777777778, \"#fb9f3a\"], [0.8888888888888888, \"#fdca26\"], [1.0, \"#f0f921\"]], \"type\": \"heatmap\"}], \"heatmapgl\": [{\"colorbar\": {\"outlinewidth\": 0, \"ticks\": \"\"}, \"colorscale\": [[0.0, \"#0d0887\"], [0.1111111111111111, \"#46039f\"], [0.2222222222222222, \"#7201a8\"], [0.3333333333333333, \"#9c179e\"], [0.4444444444444444, \"#bd3786\"], [0.5555555555555556, \"#d8576b\"], [0.6666666666666666, \"#ed7953\"], [0.7777777777777778, \"#fb9f3a\"], [0.8888888888888888, \"#fdca26\"], [1.0, \"#f0f921\"]], \"type\": \"heatmapgl\"}], \"histogram\": [{\"marker\": {\"colorbar\": {\"outlinewidth\": 0, \"ticks\": \"\"}}, \"type\": \"histogram\"}], \"histogram2d\": [{\"colorbar\": {\"outlinewidth\": 0, \"ticks\": \"\"}, \"colorscale\": [[0.0, \"#0d0887\"], [0.1111111111111111, \"#46039f\"], [0.2222222222222222, \"#7201a8\"], [0.3333333333333333, \"#9c179e\"], [0.4444444444444444, \"#bd3786\"], [0.5555555555555556, \"#d8576b\"], [0.6666666666666666, \"#ed7953\"], [0.7777777777777778, \"#fb9f3a\"], [0.8888888888888888, \"#fdca26\"], [1.0, \"#f0f921\"]], \"type\": \"histogram2d\"}], \"histogram2dcontour\": [{\"colorbar\": {\"outlinewidth\": 0, \"ticks\": \"\"}, \"colorscale\": [[0.0, \"#0d0887\"], [0.1111111111111111, \"#46039f\"], [0.2222222222222222, \"#7201a8\"], [0.3333333333333333, \"#9c179e\"], [0.4444444444444444, \"#bd3786\"], [0.5555555555555556, \"#d8576b\"], [0.6666666666666666, \"#ed7953\"], [0.7777777777777778, \"#fb9f3a\"], [0.8888888888888888, \"#fdca26\"], [1.0, \"#f0f921\"]], \"type\": \"histogram2dcontour\"}], \"mesh3d\": [{\"colorbar\": {\"outlinewidth\": 0, \"ticks\": \"\"}, \"type\": \"mesh3d\"}], \"parcoords\": [{\"line\": {\"colorbar\": {\"outlinewidth\": 0, \"ticks\": \"\"}}, \"type\": \"parcoords\"}], \"pie\": [{\"automargin\": true, \"type\": \"pie\"}], \"scatter\": [{\"marker\": {\"colorbar\": {\"outlinewidth\": 0, \"ticks\": \"\"}}, \"type\": \"scatter\"}], \"scatter3d\": [{\"line\": {\"colorbar\": {\"outlinewidth\": 0, \"ticks\": \"\"}}, \"marker\": {\"colorbar\": {\"outlinewidth\": 0, \"ticks\": \"\"}}, \"type\": \"scatter3d\"}], \"scattercarpet\": [{\"marker\": {\"colorbar\": {\"outlinewidth\": 0, \"ticks\": \"\"}}, \"type\": \"scattercarpet\"}], \"scattergeo\": [{\"marker\": {\"colorbar\": {\"outlinewidth\": 0, \"ticks\": \"\"}}, \"type\": \"scattergeo\"}], \"scattergl\": [{\"marker\": {\"colorbar\": {\"outlinewidth\": 0, \"ticks\": \"\"}}, \"type\": \"scattergl\"}], \"scattermapbox\": [{\"marker\": {\"colorbar\": {\"outlinewidth\": 0, \"ticks\": \"\"}}, \"type\": \"scattermapbox\"}], \"scatterpolar\": [{\"marker\": {\"colorbar\": {\"outlinewidth\": 0, \"ticks\": \"\"}}, \"type\": \"scatterpolar\"}], \"scatterpolargl\": [{\"marker\": {\"colorbar\": {\"outlinewidth\": 0, \"ticks\": \"\"}}, \"type\": \"scatterpolargl\"}], \"scatterternary\": [{\"marker\": {\"colorbar\": {\"outlinewidth\": 0, \"ticks\": \"\"}}, \"type\": \"scatterternary\"}], \"surface\": [{\"colorbar\": {\"outlinewidth\": 0, \"ticks\": \"\"}, \"colorscale\": [[0.0, \"#0d0887\"], [0.1111111111111111, \"#46039f\"], [0.2222222222222222, \"#7201a8\"], [0.3333333333333333, \"#9c179e\"], [0.4444444444444444, \"#bd3786\"], [0.5555555555555556, \"#d8576b\"], [0.6666666666666666, \"#ed7953\"], [0.7777777777777778, \"#fb9f3a\"], [0.8888888888888888, \"#fdca26\"], [1.0, \"#f0f921\"]], \"type\": \"surface\"}], \"table\": [{\"cells\": {\"fill\": {\"color\": \"#EBF0F8\"}, \"line\": {\"color\": \"white\"}}, \"header\": {\"fill\": {\"color\": \"#C8D4E3\"}, \"line\": {\"color\": \"white\"}}, \"type\": \"table\"}]}, \"layout\": {\"annotationdefaults\": {\"arrowcolor\": \"#2a3f5f\", \"arrowhead\": 0, \"arrowwidth\": 1}, \"coloraxis\": {\"colorbar\": {\"outlinewidth\": 0, \"ticks\": \"\"}}, \"colorscale\": {\"diverging\": [[0, \"#8e0152\"], [0.1, \"#c51b7d\"], [0.2, \"#de77ae\"], [0.3, \"#f1b6da\"], [0.4, \"#fde0ef\"], [0.5, \"#f7f7f7\"], [0.6, \"#e6f5d0\"], [0.7, \"#b8e186\"], [0.8, \"#7fbc41\"], [0.9, \"#4d9221\"], [1, \"#276419\"]], \"sequential\": [[0.0, \"#0d0887\"], [0.1111111111111111, \"#46039f\"], [0.2222222222222222, \"#7201a8\"], [0.3333333333333333, \"#9c179e\"], [0.4444444444444444, \"#bd3786\"], [0.5555555555555556, \"#d8576b\"], [0.6666666666666666, \"#ed7953\"], [0.7777777777777778, \"#fb9f3a\"], [0.8888888888888888, \"#fdca26\"], [1.0, \"#f0f921\"]], \"sequentialminus\": [[0.0, \"#0d0887\"], [0.1111111111111111, \"#46039f\"], [0.2222222222222222, \"#7201a8\"], [0.3333333333333333, \"#9c179e\"], [0.4444444444444444, \"#bd3786\"], [0.5555555555555556, \"#d8576b\"], [0.6666666666666666, \"#ed7953\"], [0.7777777777777778, \"#fb9f3a\"], [0.8888888888888888, \"#fdca26\"], [1.0, \"#f0f921\"]]}, \"colorway\": [\"#636efa\", \"#EF553B\", \"#00cc96\", \"#ab63fa\", \"#FFA15A\", \"#19d3f3\", \"#FF6692\", \"#B6E880\", \"#FF97FF\", \"#FECB52\"], \"font\": {\"color\": \"#2a3f5f\"}, \"geo\": {\"bgcolor\": \"white\", \"lakecolor\": \"white\", \"landcolor\": \"#E5ECF6\", \"showlakes\": true, \"showland\": true, \"subunitcolor\": \"white\"}, \"hoverlabel\": {\"align\": \"left\"}, \"hovermode\": \"closest\", \"mapbox\": {\"style\": \"light\"}, \"paper_bgcolor\": \"white\", \"plot_bgcolor\": \"#E5ECF6\", \"polar\": {\"angularaxis\": {\"gridcolor\": \"white\", \"linecolor\": \"white\", \"ticks\": \"\"}, \"bgcolor\": \"#E5ECF6\", \"radialaxis\": {\"gridcolor\": \"white\", \"linecolor\": \"white\", \"ticks\": \"\"}}, \"scene\": {\"xaxis\": {\"backgroundcolor\": \"#E5ECF6\", \"gridcolor\": \"white\", \"gridwidth\": 2, \"linecolor\": \"white\", \"showbackground\": true, \"ticks\": \"\", \"zerolinecolor\": \"white\"}, \"yaxis\": {\"backgroundcolor\": \"#E5ECF6\", \"gridcolor\": \"white\", \"gridwidth\": 2, \"linecolor\": \"white\", \"showbackground\": true, \"ticks\": \"\", \"zerolinecolor\": \"white\"}, \"zaxis\": {\"backgroundcolor\": \"#E5ECF6\", \"gridcolor\": \"white\", \"gridwidth\": 2, \"linecolor\": \"white\", \"showbackground\": true, \"ticks\": \"\", \"zerolinecolor\": \"white\"}}, \"shapedefaults\": {\"line\": {\"color\": \"#2a3f5f\"}}, \"ternary\": {\"aaxis\": {\"gridcolor\": \"white\", \"linecolor\": \"white\", \"ticks\": \"\"}, \"baxis\": {\"gridcolor\": \"white\", \"linecolor\": \"white\", \"ticks\": \"\"}, \"bgcolor\": \"#E5ECF6\", \"caxis\": {\"gridcolor\": \"white\", \"linecolor\": \"white\", \"ticks\": \"\"}}, \"title\": {\"x\": 0.05}, \"xaxis\": {\"automargin\": true, \"gridcolor\": \"white\", \"linecolor\": \"white\", \"ticks\": \"\", \"title\": {\"standoff\": 15}, \"zerolinecolor\": \"white\", \"zerolinewidth\": 2}, \"yaxis\": {\"automargin\": true, \"gridcolor\": \"white\", \"linecolor\": \"white\", \"ticks\": \"\", \"title\": {\"standoff\": 15}, \"zerolinecolor\": \"white\", \"zerolinewidth\": 2}}}, \"xaxis\": {\"anchor\": \"y\", \"domain\": [0.0, 1.0], \"title\": {\"text\": \"Sector\"}}, \"yaxis\": {\"anchor\": \"x\", \"domain\": [0.0, 1.0], \"title\": {\"text\": \"Year\"}}},                        {\"responsive\": true}                    ).then(function(){\n",
       "                            \n",
       "var gd = document.getElementById('ca5c60ff-49bf-47ae-bd55-9d529f844835');\n",
       "var x = new MutationObserver(function (mutations, observer) {{\n",
       "        var display = window.getComputedStyle(gd).display;\n",
       "        if (!display || display === 'none') {{\n",
       "            console.log([gd, 'removed!']);\n",
       "            Plotly.purge(gd);\n",
       "            observer.disconnect();\n",
       "        }}\n",
       "}});\n",
       "\n",
       "// Listen for the removal of the full notebook cells\n",
       "var notebookContainer = gd.closest('#notebook-container');\n",
       "if (notebookContainer) {{\n",
       "    x.observe(notebookContainer, {childList: true});\n",
       "}}\n",
       "\n",
       "// Listen for the clearing of the current output cell\n",
       "var outputEl = gd.closest('.output');\n",
       "if (outputEl) {{\n",
       "    x.observe(outputEl, {childList: true});\n",
       "}}\n",
       "\n",
       "                        })                };                });            </script>        </div>"
      ]
     },
     "metadata": {},
     "output_type": "display_data"
    }
   ],
   "source": [
    "# Another way to look at the data\n",
    "fig = px.scatter(df, x='Sector', y='Year', size='Records Lost_normalized', color='Method of Leak', hover_name='Entity', size_max=60)\n",
    "fig.show()"
   ]
  },
  {
   "cell_type": "code",
   "execution_count": 173,
   "metadata": {},
   "outputs": [],
   "source": [
    "# One way to get more info about the incident\n",
    "HEADERS = {'User-Agent': ua.random, \"Accept-Language\": \"en-US, en;q=0.5\"}\n",
    "def get_meta(url: str):\n",
    "    try:\n",
    "        r = requests.get(url, headers=HEADERS)\n",
    "        if r.status_code == 200:\n",
    "            url_content = r.content\n",
    "            info_json = trafilatura.metadata.extract_metadata(url_content)\n",
    "            return info_json\n",
    "        else:\n",
    "            print(f'Status code prohibit access:{r.status_code}')\n",
    "            return None\n",
    "    except Exception as e:\n",
    "        print(f'Error with {url}:\\n{e}')"
   ]
  },
  {
   "cell_type": "code",
   "execution_count": 216,
   "metadata": {},
   "outputs": [
    {
     "data": {
      "text/html": [
       "<div>\n",
       "<style scoped>\n",
       "    .dataframe tbody tr th:only-of-type {\n",
       "        vertical-align: middle;\n",
       "    }\n",
       "\n",
       "    .dataframe tbody tr th {\n",
       "        vertical-align: top;\n",
       "    }\n",
       "\n",
       "    .dataframe thead th {\n",
       "        text-align: right;\n",
       "    }\n",
       "</style>\n",
       "<table border=\"1\" class=\"dataframe\">\n",
       "  <thead>\n",
       "    <tr style=\"text-align: right;\">\n",
       "      <th></th>\n",
       "      <th>Entity</th>\n",
       "      <th>Story</th>\n",
       "      <th>Year</th>\n",
       "      <th>Records Lost</th>\n",
       "      <th>Sector</th>\n",
       "      <th>Method of Leak</th>\n",
       "      <th>1st source</th>\n",
       "      <th>Records Lost_normalized</th>\n",
       "      <th>source_name</th>\n",
       "    </tr>\n",
       "  </thead>\n",
       "  <tbody>\n",
       "    <tr>\n",
       "      <th>0</th>\n",
       "      <td>Heartland</td>\n",
       "      <td>The biggest credit card scam in history, Heart...</td>\n",
       "      <td>2009</td>\n",
       "      <td>1.3e+08</td>\n",
       "      <td>Financial</td>\n",
       "      <td>Hacked</td>\n",
       "      <td>http://www.forbes.com/sites/davelewis/2015/05/...</td>\n",
       "      <td>130000000</td>\n",
       "      <td>forbes.com</td>\n",
       "    </tr>\n",
       "    <tr>\n",
       "      <th>1</th>\n",
       "      <td>Bethesda Game Studios</td>\n",
       "      <td>Hacking collective Lulzsec stole account infor...</td>\n",
       "      <td>2011</td>\n",
       "      <td>2e+05</td>\n",
       "      <td>Gaming</td>\n",
       "      <td>Hacked</td>\n",
       "      <td>http://www.pcworld.com/article/231215/lulzsec_...</td>\n",
       "      <td>200000</td>\n",
       "      <td>pcworld.com</td>\n",
       "    </tr>\n",
       "    <tr>\n",
       "      <th>2</th>\n",
       "      <td>US Office of Personnel Management (2nd Breach)</td>\n",
       "      <td>attackers have targeted the forms submitted by...</td>\n",
       "      <td>2015</td>\n",
       "      <td>21500000</td>\n",
       "      <td>Government</td>\n",
       "      <td>Hacked</td>\n",
       "      <td>http://www.bbc.co.uk/news/world-us-canada-3312...</td>\n",
       "      <td>21500000</td>\n",
       "      <td>bbc.co.uk</td>\n",
       "    </tr>\n",
       "    <tr>\n",
       "      <th>3</th>\n",
       "      <td>TIO Networks</td>\n",
       "      <td>The company has not revealed what type of info...</td>\n",
       "      <td>2017</td>\n",
       "      <td>1600000</td>\n",
       "      <td>Financial</td>\n",
       "      <td>Hacked</td>\n",
       "      <td>https://www.bleepingcomputer.com/news/security...</td>\n",
       "      <td>1600000</td>\n",
       "      <td>bleepingcomputer.com</td>\n",
       "    </tr>\n",
       "    <tr>\n",
       "      <th>4</th>\n",
       "      <td>Monster.com</td>\n",
       "      <td>A trojan virus stole log-ins that were used to...</td>\n",
       "      <td>2007</td>\n",
       "      <td>1600000</td>\n",
       "      <td>Web</td>\n",
       "      <td>Hacked</td>\n",
       "      <td>http://news.bbc.co.uk/1/hi/6956349.stm</td>\n",
       "      <td>1600000</td>\n",
       "      <td>news.bbc.co.uk</td>\n",
       "    </tr>\n",
       "  </tbody>\n",
       "</table>\n",
       "</div>"
      ],
      "text/plain": [
       "                                           Entity  \\\n",
       "0                                       Heartland   \n",
       "1                           Bethesda Game Studios   \n",
       "2  US Office of Personnel Management (2nd Breach)   \n",
       "3                                    TIO Networks   \n",
       "4                                     Monster.com   \n",
       "\n",
       "                                               Story  Year Records Lost  \\\n",
       "0  The biggest credit card scam in history, Heart...  2009      1.3e+08   \n",
       "1  Hacking collective Lulzsec stole account infor...  2011        2e+05   \n",
       "2  attackers have targeted the forms submitted by...  2015     21500000   \n",
       "3  The company has not revealed what type of info...  2017      1600000   \n",
       "4  A trojan virus stole log-ins that were used to...  2007      1600000   \n",
       "\n",
       "       Sector Method of Leak  \\\n",
       "0   Financial         Hacked   \n",
       "1      Gaming         Hacked   \n",
       "2  Government         Hacked   \n",
       "3   Financial         Hacked   \n",
       "4         Web         Hacked   \n",
       "\n",
       "                                          1st source  Records Lost_normalized  \\\n",
       "0  http://www.forbes.com/sites/davelewis/2015/05/...                130000000   \n",
       "1  http://www.pcworld.com/article/231215/lulzsec_...                   200000   \n",
       "2  http://www.bbc.co.uk/news/world-us-canada-3312...                 21500000   \n",
       "3  https://www.bleepingcomputer.com/news/security...                  1600000   \n",
       "4             http://news.bbc.co.uk/1/hi/6956349.stm                  1600000   \n",
       "\n",
       "            source_name  \n",
       "0            forbes.com  \n",
       "1           pcworld.com  \n",
       "2             bbc.co.uk  \n",
       "3  bleepingcomputer.com  \n",
       "4        news.bbc.co.uk  "
      ]
     },
     "execution_count": 216,
     "metadata": {},
     "output_type": "execute_result"
    }
   ],
   "source": [
    "# creating a subset:\n",
    "df_sub = df.sample(5, random_state=1).copy().reset_index(drop=True)\n",
    "df_sub"
   ]
  },
  {
   "cell_type": "code",
   "execution_count": 212,
   "metadata": {},
   "outputs": [
    {
     "name": "stdout",
     "output_type": "stream",
     "text": [
      "Getting more information about Heartland: retrieving http://www.forbes.com/sites/davelewis/2015/05/31/heartland-payment-systems-suffers-data-breach/#155d10312985..\n",
      "Heartland: information retrieved.\n",
      "Getting more information about Bethesda Game Studios: retrieving http://www.pcworld.com/article/231215/lulzsec_a_short_history_of_hacking.html..\n",
      "Bethesda Game Studios: information retrieved.\n",
      "Getting more information about US Office of Personnel Management (2nd Breach): retrieving http://www.bbc.co.uk/news/world-us-canada-33120405..\n",
      "US Office of Personnel Management (2nd Breach): information retrieved.\n",
      "Getting more information about TIO Networks: retrieving https://www.bleepingcomputer.com/news/security/paypal-says-1-6-million-customer-details-stolen-in-breach-at-canadian-subsidiary/..\n",
      "TIO Networks: information retrieved.\n",
      "Getting more information about Monster.com: retrieving http://news.bbc.co.uk/1/hi/6956349.stm..\n",
      "Monster.com: information retrieved.\n"
     ]
    }
   ],
   "source": [
    "information_sup = {}\n",
    "for i,r in df_sub.iterrows():\n",
    "    print(f'Getting more information about {r[0]}: retrieving {r[6]}..')\n",
    "    meta = get_meta(r[6])\n",
    "    information_sup[r[0]] = meta\n",
    "    print(f'{r[0]}: information retrieved.')"
   ]
  },
  {
   "cell_type": "code",
   "execution_count": 217,
   "metadata": {},
   "outputs": [],
   "source": [
    "# Completing dataset:\n",
    "df_sub['title_retrieved'] = df_sub['Entity'].apply(lambda entity: information_sup.get(entity).get('title'))\n",
    "df_sub['description_retrieved'] = df_sub['Entity'].apply(lambda entity: information_sup.get(entity).get('description'))"
   ]
  },
  {
   "cell_type": "code",
   "execution_count": 218,
   "metadata": {},
   "outputs": [
    {
     "data": {
      "text/html": [
       "<div>\n",
       "<style scoped>\n",
       "    .dataframe tbody tr th:only-of-type {\n",
       "        vertical-align: middle;\n",
       "    }\n",
       "\n",
       "    .dataframe tbody tr th {\n",
       "        vertical-align: top;\n",
       "    }\n",
       "\n",
       "    .dataframe thead th {\n",
       "        text-align: right;\n",
       "    }\n",
       "</style>\n",
       "<table border=\"1\" class=\"dataframe\">\n",
       "  <thead>\n",
       "    <tr style=\"text-align: right;\">\n",
       "      <th></th>\n",
       "      <th>Entity</th>\n",
       "      <th>Story</th>\n",
       "      <th>Year</th>\n",
       "      <th>Records Lost</th>\n",
       "      <th>Sector</th>\n",
       "      <th>Method of Leak</th>\n",
       "      <th>1st source</th>\n",
       "      <th>Records Lost_normalized</th>\n",
       "      <th>source_name</th>\n",
       "      <th>title_retrieved</th>\n",
       "      <th>description_retrieved</th>\n",
       "    </tr>\n",
       "  </thead>\n",
       "  <tbody>\n",
       "    <tr>\n",
       "      <th>0</th>\n",
       "      <td>Heartland</td>\n",
       "      <td>The biggest credit card scam in history, Heart...</td>\n",
       "      <td>2009</td>\n",
       "      <td>1.3e+08</td>\n",
       "      <td>Financial</td>\n",
       "      <td>Hacked</td>\n",
       "      <td>http://www.forbes.com/sites/davelewis/2015/05/...</td>\n",
       "      <td>130000000</td>\n",
       "      <td>forbes.com</td>\n",
       "      <td>Heartland Payment Systems Suffers Data Breach</td>\n",
       "      <td>Heartland Payment Systems suffered a data brea...</td>\n",
       "    </tr>\n",
       "    <tr>\n",
       "      <th>1</th>\n",
       "      <td>Bethesda Game Studios</td>\n",
       "      <td>Hacking collective Lulzsec stole account infor...</td>\n",
       "      <td>2011</td>\n",
       "      <td>2e+05</td>\n",
       "      <td>Gaming</td>\n",
       "      <td>Hacked</td>\n",
       "      <td>http://www.pcworld.com/article/231215/lulzsec_...</td>\n",
       "      <td>200000</td>\n",
       "      <td>pcworld.com</td>\n",
       "      <td>Lulzsec: A Short History of Hacking</td>\n",
       "      <td>The hacker group claims it's disbanding; here ...</td>\n",
       "    </tr>\n",
       "    <tr>\n",
       "      <th>2</th>\n",
       "      <td>US Office of Personnel Management (2nd Breach)</td>\n",
       "      <td>attackers have targeted the forms submitted by...</td>\n",
       "      <td>2015</td>\n",
       "      <td>21500000</td>\n",
       "      <td>Government</td>\n",
       "      <td>Hacked</td>\n",
       "      <td>http://www.bbc.co.uk/news/world-us-canada-3312...</td>\n",
       "      <td>21500000</td>\n",
       "      <td>bbc.co.uk</td>\n",
       "      <td>US hacking: Military and intelligence data 'ac...</td>\n",
       "      <td>Hackers with suspected links to China appear t...</td>\n",
       "    </tr>\n",
       "    <tr>\n",
       "      <th>3</th>\n",
       "      <td>TIO Networks</td>\n",
       "      <td>The company has not revealed what type of info...</td>\n",
       "      <td>2017</td>\n",
       "      <td>1600000</td>\n",
       "      <td>Financial</td>\n",
       "      <td>Hacked</td>\n",
       "      <td>https://www.bleepingcomputer.com/news/security...</td>\n",
       "      <td>1600000</td>\n",
       "      <td>bleepingcomputer.com</td>\n",
       "      <td>PayPal Says 1.6 Million Customer Details Stole...</td>\n",
       "      <td>PayPal says that one of the companies it recen...</td>\n",
       "    </tr>\n",
       "    <tr>\n",
       "      <th>4</th>\n",
       "      <td>Monster.com</td>\n",
       "      <td>A trojan virus stole log-ins that were used to...</td>\n",
       "      <td>2007</td>\n",
       "      <td>1600000</td>\n",
       "      <td>Web</td>\n",
       "      <td>Hacked</td>\n",
       "      <td>http://news.bbc.co.uk/1/hi/6956349.stm</td>\n",
       "      <td>1600000</td>\n",
       "      <td>news.bbc.co.uk</td>\n",
       "      <td>BBC NEWS | Technology</td>\n",
       "      <td>US website Monster.com suffers an online attac...</td>\n",
       "    </tr>\n",
       "  </tbody>\n",
       "</table>\n",
       "</div>"
      ],
      "text/plain": [
       "                                           Entity  \\\n",
       "0                                       Heartland   \n",
       "1                           Bethesda Game Studios   \n",
       "2  US Office of Personnel Management (2nd Breach)   \n",
       "3                                    TIO Networks   \n",
       "4                                     Monster.com   \n",
       "\n",
       "                                               Story  Year Records Lost  \\\n",
       "0  The biggest credit card scam in history, Heart...  2009      1.3e+08   \n",
       "1  Hacking collective Lulzsec stole account infor...  2011        2e+05   \n",
       "2  attackers have targeted the forms submitted by...  2015     21500000   \n",
       "3  The company has not revealed what type of info...  2017      1600000   \n",
       "4  A trojan virus stole log-ins that were used to...  2007      1600000   \n",
       "\n",
       "       Sector Method of Leak  \\\n",
       "0   Financial         Hacked   \n",
       "1      Gaming         Hacked   \n",
       "2  Government         Hacked   \n",
       "3   Financial         Hacked   \n",
       "4         Web         Hacked   \n",
       "\n",
       "                                          1st source  Records Lost_normalized  \\\n",
       "0  http://www.forbes.com/sites/davelewis/2015/05/...                130000000   \n",
       "1  http://www.pcworld.com/article/231215/lulzsec_...                   200000   \n",
       "2  http://www.bbc.co.uk/news/world-us-canada-3312...                 21500000   \n",
       "3  https://www.bleepingcomputer.com/news/security...                  1600000   \n",
       "4             http://news.bbc.co.uk/1/hi/6956349.stm                  1600000   \n",
       "\n",
       "            source_name                                    title_retrieved  \\\n",
       "0            forbes.com      Heartland Payment Systems Suffers Data Breach   \n",
       "1           pcworld.com                Lulzsec: A Short History of Hacking   \n",
       "2             bbc.co.uk  US hacking: Military and intelligence data 'ac...   \n",
       "3  bleepingcomputer.com  PayPal Says 1.6 Million Customer Details Stole...   \n",
       "4        news.bbc.co.uk                              BBC NEWS | Technology   \n",
       "\n",
       "                               description_retrieved  \n",
       "0  Heartland Payment Systems suffered a data brea...  \n",
       "1  The hacker group claims it's disbanding; here ...  \n",
       "2  Hackers with suspected links to China appear t...  \n",
       "3  PayPal says that one of the companies it recen...  \n",
       "4  US website Monster.com suffers an online attac...  "
      ]
     },
     "execution_count": 218,
     "metadata": {},
     "output_type": "execute_result"
    }
   ],
   "source": [
    "df_sub"
   ]
  },
  {
   "cell_type": "code",
   "execution_count": null,
   "metadata": {},
   "outputs": [],
   "source": [
    "# We can then perform NLP task on the retrieved text to extract more relevant data"
   ]
  },
  {
   "cell_type": "code",
   "execution_count": null,
   "metadata": {},
   "outputs": [],
   "source": []
  },
  {
   "cell_type": "code",
   "execution_count": null,
   "metadata": {},
   "outputs": [],
   "source": []
  }
 ],
 "metadata": {
  "kernelspec": {
   "display_name": "Python 3",
   "language": "python",
   "name": "python3"
  },
  "language_info": {
   "codemirror_mode": {
    "name": "ipython",
    "version": 3
   },
   "file_extension": ".py",
   "mimetype": "text/x-python",
   "name": "python",
   "nbconvert_exporter": "python",
   "pygments_lexer": "ipython3",
   "version": "3.8.3"
  }
 },
 "nbformat": 4,
 "nbformat_minor": 4
}
